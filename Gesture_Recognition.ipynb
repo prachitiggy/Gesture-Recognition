{
 "cells": [
  {
   "cell_type": "markdown",
   "metadata": {
    "id": "4W5dtgahDgKl"
   },
   "source": [
    "# Gesture Recognition\n",
    "We are going to build a 3D Conv model that will be able to predict the 5 gestures correctly."
   ]
  },
  {
   "cell_type": "code",
   "execution_count": 4,
   "metadata": {
    "colab": {
     "base_uri": "https://localhost:8080/"
    },
    "id": "YKKhijyODgKp",
    "outputId": "d4607c8a-0439-4b2d-8fb9-c36d31f9dbf7"
   },
   "outputs": [],
   "source": [
    "# Import the libraries\n",
    "import numpy as np\n",
    "import random as rn\n",
    "import tensorflow as tf\n",
    "import matplotlib.pyplot as plt\n",
    "import os\n",
    "import imageio.v2 as imageio\n",
    "import skimage\n",
    "from skimage.transform import resize\n",
    "import datetime\n",
    "import cv2\n",
    "import abc\n",
    "import keras\n",
    "from keras.models import Sequential, Model\n",
    "from keras.layers import Dense, LSTM, GRU, Flatten, TimeDistributed, BatchNormalization, Activation\n",
    "from keras.callbacks import ModelCheckpoint, ReduceLROnPlateau\n",
    "from tensorflow.keras.layers import Conv2D, MaxPooling2D, Dropout\n",
    "from keras.applications import mobilenet\n",
    "from tensorflow.keras.optimizers import Adam\n",
    "import warnings\n",
    "warnings.filterwarnings(\"ignore\")"
   ]
  },
  {
   "cell_type": "code",
   "execution_count": 5,
   "metadata": {
    "id": "OZJgESdJDgKr"
   },
   "outputs": [],
   "source": [
    "# Set seeds for reproducibility\n",
    "np.random.seed(30)\n",
    "rn.seed(30)\n",
    "tf.random.set_seed(30)"
   ]
  },
  {
   "cell_type": "code",
   "execution_count": 6,
   "metadata": {
    "id": "Qg0UVqgZHqCF"
   },
   "outputs": [],
   "source": [
    "BASE_PATH = '/home/datasets/Project_data'"
   ]
  },
  {
   "cell_type": "markdown",
   "metadata": {
    "id": "lgCL7Me3DgKs"
   },
   "source": [
    "### Overview\n",
    "\n",
    "We will implement a hybrid architecture combining a Convolutional Neural Network (CNN) with a Recurrent Neural Network (RNN). In this approach, the Conv2D network extracts feature vectors from images, which are then fed into an RNN-based network as a sequence. The RNN processes these sequential features, and its output is passed through a conventional softmax layer for classification.\n",
    "\n",
    "To streamline model development, we will define a BuildModel class as an abstract foundation for constructing models and data generators tailored for gesture recognition in smart TVs. This class will manage essential configurations, including file paths, image properties, and hyperparameters. Additionally, it will provide functionalities for generating training data batches, training the model, and an abstract method for defining the model architecture.\n",
    "\n",
    "## Generator\n",
    "\n",
    "In the generator, we are going to preprocess the images as you have images of 2 different dimensions as well as create a batch of video frames. You have to experiment with img_idx, y,z and normalization such that you get high accuracy."
   ]
  },
  {
   "cell_type": "code",
   "execution_count": 7,
   "metadata": {
    "id": "zit1FsYpDgKs"
   },
   "outputs": [],
   "source": [
    "class BuildModel(metaclass=abc.ABCMeta):\n",
    "\n",
    "    def initialize_path(self, BASE_PATH):\n",
    "\n",
    "        self.train_doc = np.random.permutation(open('/home/datasets/Project_data/train.csv').readlines())\n",
    "        self.val_doc = np.random.permutation(open('/home/datasets/Project_data/val.csv').readlines())\n",
    "        self.train_path = '/home/datasets/Project_data/train'\n",
    "        self.val_path = '/home/datasets/Project_data/val'\n",
    "        self.num_train_sequences = len(self.train_doc)\n",
    "        self.num_val_sequences = len(self.val_doc)\n",
    "\n",
    "    def initialize_image_props(self, image_height=100, image_width=100):\n",
    "\n",
    "        self.image_height = image_height\n",
    "        self.image_width = image_width\n",
    "        self.channels = 3\n",
    "        self.num_classes = 5\n",
    "        self.total_frames = 30\n",
    "\n",
    "    def initialize_hyperparameters(self, number_of_sample_frames=30, batch_size=20, num_epochs=20):\n",
    "\n",
    "        self.number_of_sample_frames = number_of_sample_frames\n",
    "        self.batch_size = batch_size\n",
    "        self.num_epochs = num_epochs\n",
    "\n",
    "\n",
    "    def generator(self, source_path, folder_list, augment=False):\n",
    "\n",
    "        img_idx = np.round(np.linspace(0, self.total_frames - 1, self.number_of_sample_frames, dtype=int))\n",
    "        batch_size = self.batch_size\n",
    "\n",
    "        while True:\n",
    "            t = np.random.permutation(folder_list)\n",
    "            num_batches = len(t) // batch_size\n",
    "\n",
    "            for batch in range(num_batches):\n",
    "                batch_data, batch_labels = self.one_batch_data(source_path, t, batch, batch_size, img_idx, augment)\n",
    "                yield batch_data, batch_labels\n",
    "\n",
    "            remaining_samples = len(t) % batch_size\n",
    "\n",
    "            if (remaining_samples != 0):\n",
    "                batch_data, batch_labels = self.one_batch_data(source_path, t, num_batches, batch_size, img_idx, augment, remaining_samples)\n",
    "                yield batch_data, batch_labels\n",
    "\n",
    "\n",
    "    def one_batch_data(self, source_path, t, batch, batch_size, img_idx, augment, remaining_samples=0):\n",
    "\n",
    "        seq_length = remaining_samples if remaining_samples else batch_size\n",
    "\n",
    "        batch_data = np.zeros((seq_length, len(img_idx), self.image_height, self.image_width, self.channels))\n",
    "        batch_labels = np.zeros((seq_length, self.num_classes))\n",
    "\n",
    "        if (augment):\n",
    "            batch_data_aug = np.zeros((seq_length, len(img_idx), self.image_height, self.image_width, self.channels))\n",
    "\n",
    "\n",
    "        for folder in range(seq_length):\n",
    "            imgs = os.listdir(source_path + '/' + t[folder + (batch*batch_size)].split(';')[0])\n",
    "            for idx, item in enumerate(img_idx):\n",
    "                image = imageio.imread(source_path + '/' + t[folder + (batch*batch_size)].strip().split(';')[0] + '/' + imgs[item]).astype(np.float32)\n",
    "                image_resized = resize(image, (self.image_height, self.image_width, 3))\n",
    "\n",
    "\n",
    "                # Normalization of RGB channels\n",
    "                batch_data[folder, idx, :, :, 0] = (image_resized[:, :, 0])/255\n",
    "                batch_data[folder, idx, :, :, 1] = (image_resized[:, :, 1])/255\n",
    "                batch_data[folder, idx, :, :, 2] = (image_resized[:, :, 2])/255\n",
    "\n",
    "                if (augment):\n",
    "                    shifted = cv2.warpAffine(image,\n",
    "                                             np.float32([[1, 0, np.random.randint(-30,30)], [0, 1, np.random.randint(-30, 30)]]),\n",
    "                                            (image.shape[1], image.shape[0]))\n",
    "\n",
    "                    gray = cv2.cvtColor(shifted, cv2.COLOR_BGR2GRAY)\n",
    "\n",
    "                    x0, y0 = np.argwhere(gray > 0).min(axis=0)\n",
    "                    x1, y1 = np.argwhere(gray > 0).max(axis=0)\n",
    "\n",
    "                    cropped = shifted[x0:x1, y0:y1, :]\n",
    "\n",
    "                    image_resized = resize(cropped, (self.image_height, self.image_width, 3))\n",
    "\n",
    "                    batch_data_aug[folder, idx, :, :, 0] = (image_resized[:, :, 0])/255\n",
    "                    batch_data_aug[folder, idx, :, :, 1] = (image_resized[:, :, 1])/255\n",
    "                    batch_data_aug[folder, idx, :, :, 2] = (image_resized[:, :, 2])/255\n",
    "\n",
    "\n",
    "            batch_labels[folder, int(t[folder + (batch*batch_size)].strip().split(';')[2])] = 1\n",
    "\n",
    "\n",
    "        if (augment):\n",
    "            batch_data = np.concatenate([batch_data, batch_data_aug])\n",
    "            batch_labels = np.concatenate([batch_labels, batch_labels])\n",
    "\n",
    "\n",
    "        return(batch_data, batch_labels)\n",
    "\n",
    "\n",
    "    def train_model(self, model, augment_data=False):\n",
    "\n",
    "        train_generator = self.generator(self.train_path, self.train_doc, augment=augment_data)\n",
    "        val_generator = self.generator(self.val_path, self.val_doc)\n",
    "\n",
    "        # Create a directory with model name and current datetime\n",
    "        model_name = 'model_init' + '_' + str(datetime.datetime.now()).replace(' ', '').replace(':', '_') + '/'\n",
    "\n",
    "        if not os.path.exists(model_name):\n",
    "            os.mkdir(model_name)\n",
    "\n",
    "        # Generate model file inside the created folder\n",
    "        filepath = model_name + 'model-{epoch:05d}-{loss:.5f}-{categorical_accuracy:.5f}-{val_loss:.5f}-{val_categorical_accuracy:.5f}.keras'\n",
    "\n",
    "        # Add model checkpoint\n",
    "        checkpoint = ModelCheckpoint(filepath, monitor='val_loss', verbose=1, save_best_only=False, save_weights_only=False, mode='auto', save_freq='epoch')\n",
    "\n",
    "        # Add learning rate\n",
    "        LR = ReduceLROnPlateau(monitor='val_loss', factor=0.2, verbose=1, patience=4)\n",
    "        callbacks_list = [checkpoint, LR]\n",
    "\n",
    "        # Calculate steps per epoch\n",
    "        if (self.num_train_sequences % self.batch_size) == 0:\n",
    "            steps_per_epoch = int(self.num_train_sequences/self.batch_size)\n",
    "        else:\n",
    "            steps_per_epoch = (self.num_train_sequences//self.batch_size) + 1\n",
    "\n",
    "        if (self.num_val_sequences % self.batch_size) == 0:\n",
    "            validation_steps = int(self.num_val_sequences/self.batch_size)\n",
    "        else:\n",
    "            validation_steps = (self.num_val_sequences//self.batch_size) + 1\n",
    "\n",
    "        # Fit the model\n",
    "        history = model.fit(train_generator, steps_per_epoch=steps_per_epoch, epochs=self.num_epochs, verbose=1,\n",
    "                            callbacks=callbacks_list, validation_data=val_generator,\n",
    "                            validation_steps=validation_steps, class_weight=None, workers=1, initial_epoch=0)\n",
    "        return history\n",
    "\n",
    "\n",
    "    @abc.abstractmethod\n",
    "    def model_definition(self):\n",
    "        pass\n"
   ]
  },
  {
   "cell_type": "markdown",
   "metadata": {
    "id": "XhPbj_fYDgKt"
   },
   "source": [
    "### Visualization of Training and Validation Metrics\n",
    "\n",
    "This can be accomplished using the `plot` function, which visualizes the training and validation loss, along with `categorical accuracy` and `validation categorical accuracy`. It utilizes the training metrics stored in the history object returned by `model.fit()`. The generated plot consists of two subplots, each illustrating the progression of a specific metric over epochs."
   ]
  },
  {
   "cell_type": "code",
   "execution_count": 13,
   "metadata": {
    "id": "YKOGylopDgKu"
   },
   "outputs": [],
   "source": [
    "def plot(history):\n",
    "    fig, axes = plt.subplots(nrows=1, ncols=2, figsize=(15,4))\n",
    "    axes[0].plot(history.history['loss'])\n",
    "    axes[0].plot(history.history['val_loss'])\n",
    "    axes[0].legend(['loss', 'val_loss'])\n",
    "\n",
    "    axes[1].plot(history.history['categorical_accuracy'])\n",
    "    axes[1].plot(history.history['val_categorical_accuracy'])\n",
    "    axes[1].legend(['categorical_accuracy', 'val_categorical_accuracy'])"
   ]
  },
  {
   "cell_type": "markdown",
   "metadata": {
    "id": "mNm4HJV9DgKu"
   },
   "source": [
    "### Model 1 - CNN with LSTM"
   ]
  },
  {
   "cell_type": "code",
   "execution_count": 52,
   "metadata": {
    "id": "x2rH01QQDgKu"
   },
   "outputs": [],
   "source": [
    "class RNNCNN1(BuildModel):\n",
    "\n",
    "    def model_definition(self, cells=64, dense_neurons=64, dropout=0.25):\n",
    "\n",
    "        model = Sequential()\n",
    "\n",
    "        model.add(TimeDistributed(Conv2D(16, (3, 3), padding='same', activation='relu'),\n",
    "            input_shape=(self.number_of_sample_frames, self.image_height, self.image_width, self.channels)))\n",
    "        model.add(TimeDistributed(BatchNormalization()))\n",
    "        model.add(TimeDistributed(MaxPooling2D((2, 2))))\n",
    "\n",
    "        model.add(TimeDistributed(Conv2D(32, (3, 3), padding='same', activation='relu')))\n",
    "        model.add(TimeDistributed(BatchNormalization()))\n",
    "        model.add(TimeDistributed(MaxPooling2D((2, 2))))\n",
    "\n",
    "        model.add(TimeDistributed(Conv2D(64, (3, 3), padding='same', activation='relu')))\n",
    "        model.add(TimeDistributed(BatchNormalization()))\n",
    "        model.add(TimeDistributed(MaxPooling2D((2, 2))))\n",
    "\n",
    "        model.add(TimeDistributed(Conv2D(128, (3, 3), padding='same', activation='relu')))\n",
    "        model.add(TimeDistributed(BatchNormalization()))\n",
    "        model.add(TimeDistributed(MaxPooling2D((2, 2))))\n",
    "\n",
    "        model.add(TimeDistributed(Conv2D(256, (3, 3), padding='same', activation='relu')))\n",
    "        model.add(TimeDistributed(BatchNormalization()))\n",
    "        model.add(TimeDistributed(MaxPooling2D((2, 2))))\n",
    "\n",
    "        model.add(TimeDistributed(Flatten()))\n",
    "\n",
    "\n",
    "        model.add(LSTM(cells))\n",
    "        model.add(Dropout(dropout))\n",
    "\n",
    "        model.add(Dense(dense_neurons, activation='relu'))\n",
    "        model.add(Dropout(dropout))\n",
    "\n",
    "        model.add(Dense(self.num_classes, activation='softmax'))\n",
    "        optimizer = Adam(learning_rate=0.001)\n",
    "        model.compile(optimizer=optimizer, loss='categorical_crossentropy', metrics=['categorical_accuracy'])\n",
    "        return model"
   ]
  },
  {
   "cell_type": "code",
   "execution_count": 53,
   "metadata": {
    "colab": {
     "base_uri": "https://localhost:8080/",
     "height": 332
    },
    "id": "DKmD6Ff_DgKv",
    "outputId": "e36f5d86-c90e-4aa4-bbf4-09a4ca87b0df"
   },
   "outputs": [
    {
     "name": "stdout",
     "output_type": "stream",
     "text": [
      "Model: \"sequential_5\"\n",
      "_________________________________________________________________\n",
      " Layer (type)                Output Shape              Param #   \n",
      "=================================================================\n",
      " time_distributed_80 (TimeDi  (None, 30, 120, 120, 16)  448      \n",
      " stributed)                                                      \n",
      "                                                                 \n",
      " time_distributed_81 (TimeDi  (None, 30, 120, 120, 16)  64       \n",
      " stributed)                                                      \n",
      "                                                                 \n",
      " time_distributed_82 (TimeDi  (None, 30, 60, 60, 16)   0         \n",
      " stributed)                                                      \n",
      "                                                                 \n",
      " time_distributed_83 (TimeDi  (None, 30, 60, 60, 32)   4640      \n",
      " stributed)                                                      \n",
      "                                                                 \n",
      " time_distributed_84 (TimeDi  (None, 30, 60, 60, 32)   128       \n",
      " stributed)                                                      \n",
      "                                                                 \n",
      " time_distributed_85 (TimeDi  (None, 30, 30, 30, 32)   0         \n",
      " stributed)                                                      \n",
      "                                                                 \n",
      " time_distributed_86 (TimeDi  (None, 30, 30, 30, 64)   18496     \n",
      " stributed)                                                      \n",
      "                                                                 \n",
      " time_distributed_87 (TimeDi  (None, 30, 30, 30, 64)   256       \n",
      " stributed)                                                      \n",
      "                                                                 \n",
      " time_distributed_88 (TimeDi  (None, 30, 15, 15, 64)   0         \n",
      " stributed)                                                      \n",
      "                                                                 \n",
      " time_distributed_89 (TimeDi  (None, 30, 15, 15, 128)  73856     \n",
      " stributed)                                                      \n",
      "                                                                 \n",
      " time_distributed_90 (TimeDi  (None, 30, 15, 15, 128)  512       \n",
      " stributed)                                                      \n",
      "                                                                 \n",
      " time_distributed_91 (TimeDi  (None, 30, 7, 7, 128)    0         \n",
      " stributed)                                                      \n",
      "                                                                 \n",
      " time_distributed_92 (TimeDi  (None, 30, 7, 7, 256)    295168    \n",
      " stributed)                                                      \n",
      "                                                                 \n",
      " time_distributed_93 (TimeDi  (None, 30, 7, 7, 256)    1024      \n",
      " stributed)                                                      \n",
      "                                                                 \n",
      " time_distributed_94 (TimeDi  (None, 30, 3, 3, 256)    0         \n",
      " stributed)                                                      \n",
      "                                                                 \n",
      " time_distributed_95 (TimeDi  (None, 30, 2304)         0         \n",
      " stributed)                                                      \n",
      "                                                                 \n",
      " lstm_5 (LSTM)               (None, 128)               1245696   \n",
      "                                                                 \n",
      " dropout_10 (Dropout)        (None, 128)               0         \n",
      "                                                                 \n",
      " dense_10 (Dense)            (None, 128)               16512     \n",
      "                                                                 \n",
      " dropout_11 (Dropout)        (None, 128)               0         \n",
      "                                                                 \n",
      " dense_11 (Dense)            (None, 5)                 645       \n",
      "                                                                 \n",
      "=================================================================\n",
      "Total params: 1,657,445\n",
      "Trainable params: 1,656,453\n",
      "Non-trainable params: 992\n",
      "_________________________________________________________________\n"
     ]
    }
   ],
   "source": [
    "rnn_cnn_1 = RNNCNN1()\n",
    "rnn_cnn_1.initialize_path(BASE_PATH)\n",
    "rnn_cnn_1.initialize_image_props(image_height=120, image_width=120)\n",
    "rnn_cnn_1.initialize_hyperparameters(number_of_sample_frames=30, batch_size=20, num_epochs=20)\n",
    "rnn_cnn_model_1 = rnn_cnn_1.model_definition(cells=128, dense_neurons=128, dropout=0.25)\n",
    "rnn_cnn_model_1.summary()"
   ]
  },
  {
   "cell_type": "code",
   "execution_count": 54,
   "metadata": {
    "id": "dl32L0pDDgKw"
   },
   "outputs": [
    {
     "name": "stdout",
     "output_type": "stream",
     "text": [
      "Total Parameters:  1657445\n",
      "Epoch 1/20\n",
      "34/34 [==============================] - ETA: 0s - loss: 1.4389 - categorical_accuracy: 0.3710\n",
      "Epoch 00001: saving model to model_init_2025-04-0106_30_08.818038/model-00001-1.43888-0.37104-1.64132-0.22000.keras\n",
      "34/34 [==============================] - 191s 6s/step - loss: 1.4389 - categorical_accuracy: 0.3710 - val_loss: 1.6413 - val_categorical_accuracy: 0.2200 - lr: 0.0010\n",
      "Epoch 2/20\n",
      "34/34 [==============================] - ETA: 0s - loss: 1.1905 - categorical_accuracy: 0.5136\n",
      "Epoch 00002: saving model to model_init_2025-04-0106_30_08.818038/model-00002-1.19054-0.51357-1.88725-0.20000.keras\n",
      "34/34 [==============================] - 177s 5s/step - loss: 1.1905 - categorical_accuracy: 0.5136 - val_loss: 1.8873 - val_categorical_accuracy: 0.2000 - lr: 0.0010\n",
      "Epoch 3/20\n",
      "34/34 [==============================] - ETA: 0s - loss: 1.0397 - categorical_accuracy: 0.5754\n",
      "Epoch 00003: saving model to model_init_2025-04-0106_30_08.818038/model-00003-1.03970-0.57541-1.98567-0.23000.keras\n",
      "34/34 [==============================] - 180s 5s/step - loss: 1.0397 - categorical_accuracy: 0.5754 - val_loss: 1.9857 - val_categorical_accuracy: 0.2300 - lr: 0.0010\n",
      "Epoch 4/20\n",
      "34/34 [==============================] - ETA: 0s - loss: 0.9530 - categorical_accuracy: 0.6063\n",
      "Epoch 00004: saving model to model_init_2025-04-0106_30_08.818038/model-00004-0.95299-0.60633-2.09095-0.24000.keras\n",
      "34/34 [==============================] - 184s 6s/step - loss: 0.9530 - categorical_accuracy: 0.6063 - val_loss: 2.0909 - val_categorical_accuracy: 0.2400 - lr: 0.0010\n",
      "Epoch 5/20\n",
      "34/34 [==============================] - ETA: 0s - loss: 0.8834 - categorical_accuracy: 0.6659\n",
      "Epoch 00005: saving model to model_init_2025-04-0106_30_08.818038/model-00005-0.88338-0.66591-2.28910-0.21000.keras\n",
      "\n",
      "Epoch 00005: ReduceLROnPlateau reducing learning rate to 0.00020000000949949026.\n",
      "34/34 [==============================] - 178s 5s/step - loss: 0.8834 - categorical_accuracy: 0.6659 - val_loss: 2.2891 - val_categorical_accuracy: 0.2100 - lr: 0.0010\n",
      "Epoch 6/20\n",
      "34/34 [==============================] - ETA: 0s - loss: 0.6788 - categorical_accuracy: 0.7443\n",
      "Epoch 00006: saving model to model_init_2025-04-0106_30_08.818038/model-00006-0.67881-0.74434-2.07947-0.18000.keras\n",
      "34/34 [==============================] - 178s 5s/step - loss: 0.6788 - categorical_accuracy: 0.7443 - val_loss: 2.0795 - val_categorical_accuracy: 0.1800 - lr: 2.0000e-04\n",
      "Epoch 7/20\n",
      "34/34 [==============================] - ETA: 0s - loss: 0.5649 - categorical_accuracy: 0.8054\n",
      "Epoch 00007: saving model to model_init_2025-04-0106_30_08.818038/model-00007-0.56494-0.80543-2.25174-0.23000.keras\n",
      "34/34 [==============================] - 177s 5s/step - loss: 0.5649 - categorical_accuracy: 0.8054 - val_loss: 2.2517 - val_categorical_accuracy: 0.2300 - lr: 2.0000e-04\n",
      "Epoch 8/20\n",
      "34/34 [==============================] - ETA: 0s - loss: 0.5280 - categorical_accuracy: 0.8130\n",
      "Epoch 00008: saving model to model_init_2025-04-0106_30_08.818038/model-00008-0.52802-0.81297-2.35748-0.19000.keras\n",
      "34/34 [==============================] - 181s 5s/step - loss: 0.5280 - categorical_accuracy: 0.8130 - val_loss: 2.3575 - val_categorical_accuracy: 0.1900 - lr: 2.0000e-04\n",
      "Epoch 9/20\n",
      "34/34 [==============================] - ETA: 0s - loss: 0.4713 - categorical_accuracy: 0.8220\n",
      "Epoch 00009: saving model to model_init_2025-04-0106_30_08.818038/model-00009-0.47128-0.82202-1.94736-0.29000.keras\n",
      "\n",
      "Epoch 00009: ReduceLROnPlateau reducing learning rate to 4.0000001899898055e-05.\n",
      "34/34 [==============================] - 175s 5s/step - loss: 0.4713 - categorical_accuracy: 0.8220 - val_loss: 1.9474 - val_categorical_accuracy: 0.2900 - lr: 2.0000e-04\n",
      "Epoch 10/20\n",
      "34/34 [==============================] - ETA: 0s - loss: 0.4486 - categorical_accuracy: 0.8394\n",
      "Epoch 00010: saving model to model_init_2025-04-0106_30_08.818038/model-00010-0.44857-0.83937-2.12277-0.30000.keras\n",
      "34/34 [==============================] - 177s 5s/step - loss: 0.4486 - categorical_accuracy: 0.8394 - val_loss: 2.1228 - val_categorical_accuracy: 0.3000 - lr: 4.0000e-05\n",
      "Epoch 11/20\n",
      "34/34 [==============================] - ETA: 0s - loss: 0.4217 - categorical_accuracy: 0.8544\n",
      "Epoch 00011: saving model to model_init_2025-04-0106_30_08.818038/model-00011-0.42169-0.85445-2.17133-0.30000.keras\n",
      "34/34 [==============================] - 177s 5s/step - loss: 0.4217 - categorical_accuracy: 0.8544 - val_loss: 2.1713 - val_categorical_accuracy: 0.3000 - lr: 4.0000e-05\n",
      "Epoch 12/20\n",
      "34/34 [==============================] - ETA: 0s - loss: 0.3825 - categorical_accuracy: 0.8741\n",
      "Epoch 00012: saving model to model_init_2025-04-0106_30_08.818038/model-00012-0.38249-0.87406-1.71785-0.45000.keras\n",
      "34/34 [==============================] - 176s 5s/step - loss: 0.3825 - categorical_accuracy: 0.8741 - val_loss: 1.7179 - val_categorical_accuracy: 0.4500 - lr: 4.0000e-05\n",
      "Epoch 13/20\n",
      "34/34 [==============================] - ETA: 0s - loss: 0.3596 - categorical_accuracy: 0.8771\n",
      "Epoch 00013: saving model to model_init_2025-04-0106_30_08.818038/model-00013-0.35955-0.87707-1.66230-0.45000.keras\n",
      "\n",
      "Epoch 00013: ReduceLROnPlateau reducing learning rate to 8.000000525498762e-06.\n",
      "34/34 [==============================] - 176s 5s/step - loss: 0.3596 - categorical_accuracy: 0.8771 - val_loss: 1.6623 - val_categorical_accuracy: 0.4500 - lr: 4.0000e-05\n",
      "Epoch 14/20\n",
      "34/34 [==============================] - ETA: 0s - loss: 0.3742 - categorical_accuracy: 0.8710\n",
      "Epoch 00014: saving model to model_init_2025-04-0106_30_08.818038/model-00014-0.37423-0.87104-1.35359-0.51000.keras\n",
      "34/34 [==============================] - 177s 5s/step - loss: 0.3742 - categorical_accuracy: 0.8710 - val_loss: 1.3536 - val_categorical_accuracy: 0.5100 - lr: 8.0000e-06\n",
      "Epoch 15/20\n",
      "34/34 [==============================] - ETA: 0s - loss: 0.3441 - categorical_accuracy: 0.8808\n",
      "Epoch 00015: saving model to model_init_2025-04-0106_30_08.818038/model-00015-0.34406-0.88084-1.23677-0.57000.keras\n",
      "34/34 [==============================] - 177s 5s/step - loss: 0.3441 - categorical_accuracy: 0.8808 - val_loss: 1.2368 - val_categorical_accuracy: 0.5700 - lr: 8.0000e-06\n",
      "Epoch 16/20\n",
      "34/34 [==============================] - ETA: 0s - loss: 0.3680 - categorical_accuracy: 0.8741\n",
      "Epoch 00016: saving model to model_init_2025-04-0106_30_08.818038/model-00016-0.36795-0.87406-1.03437-0.58000.keras\n",
      "34/34 [==============================] - 175s 5s/step - loss: 0.3680 - categorical_accuracy: 0.8741 - val_loss: 1.0344 - val_categorical_accuracy: 0.5800 - lr: 8.0000e-06\n",
      "Epoch 17/20\n",
      "34/34 [==============================] - ETA: 0s - loss: 0.3456 - categorical_accuracy: 0.8846\n",
      "Epoch 00017: saving model to model_init_2025-04-0106_30_08.818038/model-00017-0.34558-0.88462-0.88801-0.62000.keras\n",
      "34/34 [==============================] - 174s 5s/step - loss: 0.3456 - categorical_accuracy: 0.8846 - val_loss: 0.8880 - val_categorical_accuracy: 0.6200 - lr: 8.0000e-06\n",
      "Epoch 18/20\n",
      "34/34 [==============================] - ETA: 0s - loss: 0.3522 - categorical_accuracy: 0.8846\n",
      "Epoch 00018: saving model to model_init_2025-04-0106_30_08.818038/model-00018-0.35219-0.88462-0.67223-0.71000.keras\n",
      "34/34 [==============================] - 177s 5s/step - loss: 0.3522 - categorical_accuracy: 0.8846 - val_loss: 0.6722 - val_categorical_accuracy: 0.7100 - lr: 8.0000e-06\n",
      "Epoch 19/20\n",
      "34/34 [==============================] - ETA: 0s - loss: 0.3493 - categorical_accuracy: 0.8891\n",
      "Epoch 00019: saving model to model_init_2025-04-0106_30_08.818038/model-00019-0.34928-0.88914-0.73907-0.67000.keras\n",
      "34/34 [==============================] - 175s 5s/step - loss: 0.3493 - categorical_accuracy: 0.8891 - val_loss: 0.7391 - val_categorical_accuracy: 0.6700 - lr: 8.0000e-06\n",
      "Epoch 20/20\n",
      "34/34 [==============================] - ETA: 0s - loss: 0.3360 - categorical_accuracy: 0.8891\n",
      "Epoch 00020: saving model to model_init_2025-04-0106_30_08.818038/model-00020-0.33604-0.88914-0.63477-0.73000.keras\n",
      "34/34 [==============================] - 176s 5s/step - loss: 0.3360 - categorical_accuracy: 0.8891 - val_loss: 0.6348 - val_categorical_accuracy: 0.7300 - lr: 8.0000e-06\n"
     ]
    }
   ],
   "source": [
    "print(\"Total Parameters: \", rnn_cnn_model_1.count_params())\n",
    "model_1 = rnn_cnn_1.train_model(rnn_cnn_model_1, augment_data=True)"
   ]
  },
  {
   "cell_type": "code",
   "execution_count": 55,
   "metadata": {
    "id": "7A20vCUPDgKw"
   },
   "outputs": [
    {
     "data": {
      "image/png": "[encoded data removed]",
      "text/plain": [
       "<Figure size 1080x288 with 2 Axes>"
      ]
     },
     "metadata": {
      "needs_background": "light"
     },
     "output_type": "display_data"
    }
   ],
   "source": [
    "plot(model_1)"
   ]
  },
  {
   "cell_type": "markdown",
   "metadata": {
    "id": "aN5tKNrBDgKx"
   },
   "source": [
    "***Observations:***\n",
    "\n",
    "Using the base CNN with LSTM architecture, we trained on all 30 frames extracted from the video. The model achieved a training accuracy of 88% and a validation accuracy of 73%, suggesting potential overfitting. To mitigate this, we plan to modify the model by reducing the number of frames, batch size, and epochs."
   ]
  },
  {
   "cell_type": "markdown",
   "metadata": {
    "id": "nN_qq4oDDgKx"
   },
   "source": [
    "### Model 2 - CNN with LSTM (with reduced hyperparameters)"
   ]
  },
  {
   "cell_type": "code",
   "execution_count": 56,
   "metadata": {
    "id": "zxq4Kfl7DgKx"
   },
   "outputs": [
    {
     "name": "stdout",
     "output_type": "stream",
     "text": [
      "Model: \"sequential_6\"\n",
      "_________________________________________________________________\n",
      " Layer (type)                Output Shape              Param #   \n",
      "=================================================================\n",
      " time_distributed_96 (TimeDi  (None, 20, 120, 120, 16)  448      \n",
      " stributed)                                                      \n",
      "                                                                 \n",
      " time_distributed_97 (TimeDi  (None, 20, 120, 120, 16)  64       \n",
      " stributed)                                                      \n",
      "                                                                 \n",
      " time_distributed_98 (TimeDi  (None, 20, 60, 60, 16)   0         \n",
      " stributed)                                                      \n",
      "                                                                 \n",
      " time_distributed_99 (TimeDi  (None, 20, 60, 60, 32)   4640      \n",
      " stributed)                                                      \n",
      "                                                                 \n",
      " time_distributed_100 (TimeD  (None, 20, 60, 60, 32)   128       \n",
      " istributed)                                                     \n",
      "                                                                 \n",
      " time_distributed_101 (TimeD  (None, 20, 30, 30, 32)   0         \n",
      " istributed)                                                     \n",
      "                                                                 \n",
      " time_distributed_102 (TimeD  (None, 20, 30, 30, 64)   18496     \n",
      " istributed)                                                     \n",
      "                                                                 \n",
      " time_distributed_103 (TimeD  (None, 20, 30, 30, 64)   256       \n",
      " istributed)                                                     \n",
      "                                                                 \n",
      " time_distributed_104 (TimeD  (None, 20, 15, 15, 64)   0         \n",
      " istributed)                                                     \n",
      "                                                                 \n",
      " time_distributed_105 (TimeD  (None, 20, 15, 15, 128)  73856     \n",
      " istributed)                                                     \n",
      "                                                                 \n",
      " time_distributed_106 (TimeD  (None, 20, 15, 15, 128)  512       \n",
      " istributed)                                                     \n",
      "                                                                 \n",
      " time_distributed_107 (TimeD  (None, 20, 7, 7, 128)    0         \n",
      " istributed)                                                     \n",
      "                                                                 \n",
      " time_distributed_108 (TimeD  (None, 20, 7, 7, 256)    295168    \n",
      " istributed)                                                     \n",
      "                                                                 \n",
      " time_distributed_109 (TimeD  (None, 20, 7, 7, 256)    1024      \n",
      " istributed)                                                     \n",
      "                                                                 \n",
      " time_distributed_110 (TimeD  (None, 20, 3, 3, 256)    0         \n",
      " istributed)                                                     \n",
      "                                                                 \n",
      " time_distributed_111 (TimeD  (None, 20, 2304)         0         \n",
      " istributed)                                                     \n",
      "                                                                 \n",
      " lstm_6 (LSTM)               (None, 128)               1245696   \n",
      "                                                                 \n",
      " dropout_12 (Dropout)        (None, 128)               0         \n",
      "                                                                 \n",
      " dense_12 (Dense)            (None, 128)               16512     \n",
      "                                                                 \n",
      " dropout_13 (Dropout)        (None, 128)               0         \n",
      "                                                                 \n",
      " dense_13 (Dense)            (None, 5)                 645       \n",
      "                                                                 \n",
      "=================================================================\n",
      "Total params: 1,657,445\n",
      "Trainable params: 1,656,453\n",
      "Non-trainable params: 992\n",
      "_________________________________________________________________\n"
     ]
    }
   ],
   "source": [
    "rnn_cnn_2 = RNNCNN1()\n",
    "rnn_cnn_2.initialize_path(BASE_PATH)\n",
    "rnn_cnn_2.initialize_image_props(image_height=120, image_width=120)\n",
    "rnn_cnn_2.initialize_hyperparameters(number_of_sample_frames=20, batch_size=10, num_epochs=10)\n",
    "rnn_cnn_model_2 = rnn_cnn_2.model_definition(cells=128, dense_neurons=128, dropout=0.25)\n",
    "rnn_cnn_model_2.summary()"
   ]
  },
  {
   "cell_type": "code",
   "execution_count": 57,
   "metadata": {
    "id": "VRP5bBOWDgKy"
   },
   "outputs": [
    {
     "name": "stdout",
     "output_type": "stream",
     "text": [
      "Total Parameters:  1657445\n",
      "Epoch 1/10\n",
      "67/67 [==============================] - ETA: 0s - loss: 1.4233 - categorical_accuracy: 0.3665\n",
      "Epoch 00001: saving model to model_init_2025-04-0107_29_32.308583/model-00001-1.42327-0.36652-1.68061-0.16000.keras\n",
      "67/67 [==============================] - 120s 2s/step - loss: 1.4233 - categorical_accuracy: 0.3665 - val_loss: 1.6806 - val_categorical_accuracy: 0.1600 - lr: 0.0010\n",
      "Epoch 2/10\n",
      "67/67 [==============================] - ETA: 0s - loss: 1.2631 - categorical_accuracy: 0.4600\n",
      "Epoch 00002: saving model to model_init_2025-04-0107_29_32.308583/model-00002-1.26311-0.46003-2.44905-0.14000.keras\n",
      "67/67 [==============================] - 118s 2s/step - loss: 1.2631 - categorical_accuracy: 0.4600 - val_loss: 2.4491 - val_categorical_accuracy: 0.1400 - lr: 0.0010\n",
      "Epoch 3/10\n",
      "67/67 [==============================] - ETA: 0s - loss: 1.1600 - categorical_accuracy: 0.5181\n",
      "Epoch 00003: saving model to model_init_2025-04-0107_29_32.308583/model-00003-1.15999-0.51810-1.97044-0.31000.keras\n",
      "67/67 [==============================] - 119s 2s/step - loss: 1.1600 - categorical_accuracy: 0.5181 - val_loss: 1.9704 - val_categorical_accuracy: 0.3100 - lr: 0.0010\n",
      "Epoch 4/10\n",
      "67/67 [==============================] - ETA: 0s - loss: 1.0212 - categorical_accuracy: 0.5897\n",
      "Epoch 00004: saving model to model_init_2025-04-0107_29_32.308583/model-00004-1.02125-0.58974-2.56739-0.27000.keras\n",
      "67/67 [==============================] - 122s 2s/step - loss: 1.0212 - categorical_accuracy: 0.5897 - val_loss: 2.5674 - val_categorical_accuracy: 0.2700 - lr: 0.0010\n",
      "Epoch 5/10\n",
      "67/67 [==============================] - ETA: 0s - loss: 0.9163 - categorical_accuracy: 0.6357\n",
      "Epoch 00005: saving model to model_init_2025-04-0107_29_32.308583/model-00005-0.91627-0.63575-2.52485-0.26000.keras\n",
      "\n",
      "Epoch 00005: ReduceLROnPlateau reducing learning rate to 0.00020000000949949026.\n",
      "67/67 [==============================] - 119s 2s/step - loss: 0.9163 - categorical_accuracy: 0.6357 - val_loss: 2.5249 - val_categorical_accuracy: 0.2600 - lr: 0.0010\n",
      "Epoch 6/10\n",
      "67/67 [==============================] - ETA: 0s - loss: 0.7650 - categorical_accuracy: 0.7036\n",
      "Epoch 00006: saving model to model_init_2025-04-0107_29_32.308583/model-00006-0.76496-0.70362-2.29759-0.30000.keras\n",
      "67/67 [==============================] - 118s 2s/step - loss: 0.7650 - categorical_accuracy: 0.7036 - val_loss: 2.2976 - val_categorical_accuracy: 0.3000 - lr: 2.0000e-04\n",
      "Epoch 7/10\n",
      "67/67 [==============================] - ETA: 0s - loss: 0.6621 - categorical_accuracy: 0.7368\n",
      "Epoch 00007: saving model to model_init_2025-04-0107_29_32.308583/model-00007-0.66214-0.73680-1.74272-0.40000.keras\n",
      "67/67 [==============================] - 119s 2s/step - loss: 0.6621 - categorical_accuracy: 0.7368 - val_loss: 1.7427 - val_categorical_accuracy: 0.4000 - lr: 2.0000e-04\n",
      "Epoch 8/10\n",
      "67/67 [==============================] - ETA: 0s - loss: 0.5986 - categorical_accuracy: 0.7783\n",
      "Epoch 00008: saving model to model_init_2025-04-0107_29_32.308583/model-00008-0.59864-0.77828-1.27787-0.54000.keras\n",
      "67/67 [==============================] - 119s 2s/step - loss: 0.5986 - categorical_accuracy: 0.7783 - val_loss: 1.2779 - val_categorical_accuracy: 0.5400 - lr: 2.0000e-04\n",
      "Epoch 9/10\n",
      "67/67 [==============================] - ETA: 0s - loss: 0.5306 - categorical_accuracy: 0.8047\n",
      "Epoch 00009: saving model to model_init_2025-04-0107_29_32.308583/model-00009-0.53063-0.80468-0.93781-0.68000.keras\n",
      "67/67 [==============================] - 121s 2s/step - loss: 0.5306 - categorical_accuracy: 0.8047 - val_loss: 0.9378 - val_categorical_accuracy: 0.6800 - lr: 2.0000e-04\n",
      "Epoch 10/10\n",
      "67/67 [==============================] - ETA: 0s - loss: 0.5169 - categorical_accuracy: 0.8122\n",
      "Epoch 00010: saving model to model_init_2025-04-0107_29_32.308583/model-00010-0.51687-0.81222-0.74419-0.68000.keras\n",
      "67/67 [==============================] - 118s 2s/step - loss: 0.5169 - categorical_accuracy: 0.8122 - val_loss: 0.7442 - val_categorical_accuracy: 0.6800 - lr: 2.0000e-04\n"
     ]
    }
   ],
   "source": [
    "print(\"Total Parameters: \", rnn_cnn_model_2.count_params())\n",
    "model_2 = rnn_cnn_2.train_model(rnn_cnn_model_2, augment_data=True)"
   ]
  },
  {
   "cell_type": "code",
   "execution_count": 58,
   "metadata": {
    "id": "Q9mF-0FcDgKy"
   },
   "outputs": [
    {
     "data": {
      "image/png": "[encoded data removed]",
      "text/plain": [
       "<Figure size 1080x288 with 2 Axes>"
      ]
     },
     "metadata": {
      "needs_background": "light"
     },
     "output_type": "display_data"
    }
   ],
   "source": [
    "plot(model_2)"
   ]
  },
  {
   "cell_type": "markdown",
   "metadata": {
    "id": "ekeAxMc0DgKy"
   },
   "source": [
    "***Observations:***\n",
    "\n",
    "Reducing the number of hyperparameters led to a drop in training accuracy to 81% and validation accuracy to 68%, indicating underfitting. To mitigate this, we will focus on reducing the number of frames while maintaining a batch size of 20 and training for 20 epochs."
   ]
  },
  {
   "cell_type": "markdown",
   "metadata": {
    "id": "AP6kbPUUDgKy"
   },
   "source": [
    "### Model 3 - CNN with LSTM (with reduced frames)"
   ]
  },
  {
   "cell_type": "code",
   "execution_count": 59,
   "metadata": {
    "id": "9d_NXGqkDgKz"
   },
   "outputs": [
    {
     "name": "stdout",
     "output_type": "stream",
     "text": [
      "Model: \"sequential_7\"\n",
      "_________________________________________________________________\n",
      " Layer (type)                Output Shape              Param #   \n",
      "=================================================================\n",
      " time_distributed_112 (TimeD  (None, 18, 120, 120, 16)  448      \n",
      " istributed)                                                     \n",
      "                                                                 \n",
      " time_distributed_113 (TimeD  (None, 18, 120, 120, 16)  64       \n",
      " istributed)                                                     \n",
      "                                                                 \n",
      " time_distributed_114 (TimeD  (None, 18, 60, 60, 16)   0         \n",
      " istributed)                                                     \n",
      "                                                                 \n",
      " time_distributed_115 (TimeD  (None, 18, 60, 60, 32)   4640      \n",
      " istributed)                                                     \n",
      "                                                                 \n",
      " time_distributed_116 (TimeD  (None, 18, 60, 60, 32)   128       \n",
      " istributed)                                                     \n",
      "                                                                 \n",
      " time_distributed_117 (TimeD  (None, 18, 30, 30, 32)   0         \n",
      " istributed)                                                     \n",
      "                                                                 \n",
      " time_distributed_118 (TimeD  (None, 18, 30, 30, 64)   18496     \n",
      " istributed)                                                     \n",
      "                                                                 \n",
      " time_distributed_119 (TimeD  (None, 18, 30, 30, 64)   256       \n",
      " istributed)                                                     \n",
      "                                                                 \n",
      " time_distributed_120 (TimeD  (None, 18, 15, 15, 64)   0         \n",
      " istributed)                                                     \n",
      "                                                                 \n",
      " time_distributed_121 (TimeD  (None, 18, 15, 15, 128)  73856     \n",
      " istributed)                                                     \n",
      "                                                                 \n",
      " time_distributed_122 (TimeD  (None, 18, 15, 15, 128)  512       \n",
      " istributed)                                                     \n",
      "                                                                 \n",
      " time_distributed_123 (TimeD  (None, 18, 7, 7, 128)    0         \n",
      " istributed)                                                     \n",
      "                                                                 \n",
      " time_distributed_124 (TimeD  (None, 18, 7, 7, 256)    295168    \n",
      " istributed)                                                     \n",
      "                                                                 \n",
      " time_distributed_125 (TimeD  (None, 18, 7, 7, 256)    1024      \n",
      " istributed)                                                     \n",
      "                                                                 \n",
      " time_distributed_126 (TimeD  (None, 18, 3, 3, 256)    0         \n",
      " istributed)                                                     \n",
      "                                                                 \n",
      " time_distributed_127 (TimeD  (None, 18, 2304)         0         \n",
      " istributed)                                                     \n",
      "                                                                 \n",
      " lstm_7 (LSTM)               (None, 128)               1245696   \n",
      "                                                                 \n",
      " dropout_14 (Dropout)        (None, 128)               0         \n",
      "                                                                 \n",
      " dense_14 (Dense)            (None, 128)               16512     \n",
      "                                                                 \n",
      " dropout_15 (Dropout)        (None, 128)               0         \n",
      "                                                                 \n",
      " dense_15 (Dense)            (None, 5)                 645       \n",
      "                                                                 \n",
      "=================================================================\n",
      "Total params: 1,657,445\n",
      "Trainable params: 1,656,453\n",
      "Non-trainable params: 992\n",
      "_________________________________________________________________\n"
     ]
    }
   ],
   "source": [
    "rnn_cnn_3 = RNNCNN1()\n",
    "rnn_cnn_3.initialize_path(BASE_PATH)\n",
    "rnn_cnn_3.initialize_image_props(image_height=120, image_width=120)\n",
    "rnn_cnn_3.initialize_hyperparameters(number_of_sample_frames=18, batch_size=20, num_epochs=20)\n",
    "rnn_cnn_model_3 = rnn_cnn_3.model_definition(cells=128, dense_neurons=128, dropout=0.25)\n",
    "rnn_cnn_model_3.summary()"
   ]
  },
  {
   "cell_type": "code",
   "execution_count": 60,
   "metadata": {
    "id": "p47B781ADgKz"
   },
   "outputs": [
    {
     "name": "stdout",
     "output_type": "stream",
     "text": [
      "Total Parameters:  1657445\n",
      "Epoch 1/20\n",
      "34/34 [==============================] - ETA: 0s - loss: 1.3693 - categorical_accuracy: 0.3793\n",
      "Epoch 00001: saving model to model_init_2025-04-0107_49_26.584721/model-00001-1.36934-0.37934-1.80737-0.21000.keras\n",
      "34/34 [==============================] - 122s 4s/step - loss: 1.3693 - categorical_accuracy: 0.3793 - val_loss: 1.8074 - val_categorical_accuracy: 0.2100 - lr: 0.0010\n",
      "Epoch 2/20\n",
      "34/34 [==============================] - ETA: 0s - loss: 1.1357 - categorical_accuracy: 0.5181\n",
      "Epoch 00002: saving model to model_init_2025-04-0107_49_26.584721/model-00002-1.13568-0.51810-1.72913-0.24000.keras\n",
      "34/34 [==============================] - 118s 4s/step - loss: 1.1357 - categorical_accuracy: 0.5181 - val_loss: 1.7291 - val_categorical_accuracy: 0.2400 - lr: 0.0010\n",
      "Epoch 3/20\n",
      "34/34 [==============================] - ETA: 0s - loss: 0.9868 - categorical_accuracy: 0.6101\n",
      "Epoch 00003: saving model to model_init_2025-04-0107_49_26.584721/model-00003-0.98675-0.61011-1.84342-0.36000.keras\n",
      "34/34 [==============================] - 110s 3s/step - loss: 0.9868 - categorical_accuracy: 0.6101 - val_loss: 1.8434 - val_categorical_accuracy: 0.3600 - lr: 0.0010\n",
      "Epoch 4/20\n",
      "34/34 [==============================] - ETA: 0s - loss: 0.9140 - categorical_accuracy: 0.6229\n",
      "Epoch 00004: saving model to model_init_2025-04-0107_49_26.584721/model-00004-0.91396-0.62293-2.10159-0.25000.keras\n",
      "34/34 [==============================] - 107s 3s/step - loss: 0.9140 - categorical_accuracy: 0.6229 - val_loss: 2.1016 - val_categorical_accuracy: 0.2500 - lr: 0.0010\n",
      "Epoch 5/20\n",
      "34/34 [==============================] - ETA: 0s - loss: 0.7842 - categorical_accuracy: 0.6938\n",
      "Epoch 00005: saving model to model_init_2025-04-0107_49_26.584721/model-00005-0.78422-0.69382-1.94884-0.34000.keras\n",
      "34/34 [==============================] - 109s 3s/step - loss: 0.7842 - categorical_accuracy: 0.6938 - val_loss: 1.9488 - val_categorical_accuracy: 0.3400 - lr: 0.0010\n",
      "Epoch 6/20\n",
      "34/34 [==============================] - ETA: 0s - loss: 0.7249 - categorical_accuracy: 0.7308\n",
      "Epoch 00006: saving model to model_init_2025-04-0107_49_26.584721/model-00006-0.72491-0.73077-2.27232-0.21000.keras\n",
      "\n",
      "Epoch 00006: ReduceLROnPlateau reducing learning rate to 0.00020000000949949026.\n",
      "34/34 [==============================] - 111s 3s/step - loss: 0.7249 - categorical_accuracy: 0.7308 - val_loss: 2.2723 - val_categorical_accuracy: 0.2100 - lr: 0.0010\n",
      "Epoch 7/20\n",
      "34/34 [==============================] - ETA: 0s - loss: 0.5564 - categorical_accuracy: 0.7911\n",
      "Epoch 00007: saving model to model_init_2025-04-0107_49_26.584721/model-00007-0.55643-0.79110-1.94363-0.29000.keras\n",
      "34/34 [==============================] - 106s 3s/step - loss: 0.5564 - categorical_accuracy: 0.7911 - val_loss: 1.9436 - val_categorical_accuracy: 0.2900 - lr: 2.0000e-04\n",
      "Epoch 8/20\n",
      "34/34 [==============================] - ETA: 0s - loss: 0.4625 - categorical_accuracy: 0.8213\n",
      "Epoch 00008: saving model to model_init_2025-04-0107_49_26.584721/model-00008-0.46246-0.82127-2.00867-0.40000.keras\n",
      "34/34 [==============================] - 113s 3s/step - loss: 0.4625 - categorical_accuracy: 0.8213 - val_loss: 2.0087 - val_categorical_accuracy: 0.4000 - lr: 2.0000e-04\n",
      "Epoch 9/20\n",
      "34/34 [==============================] - ETA: 0s - loss: 0.4001 - categorical_accuracy: 0.8499\n",
      "Epoch 00009: saving model to model_init_2025-04-0107_49_26.584721/model-00009-0.40011-0.84992-1.92067-0.35000.keras\n",
      "34/34 [==============================] - 110s 3s/step - loss: 0.4001 - categorical_accuracy: 0.8499 - val_loss: 1.9207 - val_categorical_accuracy: 0.3500 - lr: 2.0000e-04\n",
      "Epoch 10/20\n",
      "34/34 [==============================] - ETA: 0s - loss: 0.3725 - categorical_accuracy: 0.8710\n",
      "Epoch 00010: saving model to model_init_2025-04-0107_49_26.584721/model-00010-0.37254-0.87104-2.13108-0.37000.keras\n",
      "\n",
      "Epoch 00010: ReduceLROnPlateau reducing learning rate to 4.0000001899898055e-05.\n",
      "34/34 [==============================] - 111s 3s/step - loss: 0.3725 - categorical_accuracy: 0.8710 - val_loss: 2.1311 - val_categorical_accuracy: 0.3700 - lr: 2.0000e-04\n",
      "Epoch 11/20\n",
      "34/34 [==============================] - ETA: 0s - loss: 0.3241 - categorical_accuracy: 0.8854\n",
      "Epoch 00011: saving model to model_init_2025-04-0107_49_26.584721/model-00011-0.32407-0.88537-2.01017-0.39000.keras\n",
      "34/34 [==============================] - 110s 3s/step - loss: 0.3241 - categorical_accuracy: 0.8854 - val_loss: 2.0102 - val_categorical_accuracy: 0.3900 - lr: 4.0000e-05\n",
      "Epoch 12/20\n",
      "34/34 [==============================] - ETA: 0s - loss: 0.2861 - categorical_accuracy: 0.8997\n",
      "Epoch 00012: saving model to model_init_2025-04-0107_49_26.584721/model-00012-0.28608-0.89970-1.86071-0.44000.keras\n",
      "34/34 [==============================] - 110s 3s/step - loss: 0.2861 - categorical_accuracy: 0.8997 - val_loss: 1.8607 - val_categorical_accuracy: 0.4400 - lr: 4.0000e-05\n",
      "Epoch 13/20\n",
      "34/34 [==============================] - ETA: 0s - loss: 0.2899 - categorical_accuracy: 0.9065\n",
      "Epoch 00013: saving model to model_init_2025-04-0107_49_26.584721/model-00013-0.28987-0.90649-1.67757-0.47000.keras\n",
      "34/34 [==============================] - 111s 3s/step - loss: 0.2899 - categorical_accuracy: 0.9065 - val_loss: 1.6776 - val_categorical_accuracy: 0.4700 - lr: 4.0000e-05\n",
      "Epoch 14/20\n",
      "34/34 [==============================] - ETA: 0s - loss: 0.2806 - categorical_accuracy: 0.9095\n",
      "Epoch 00014: saving model to model_init_2025-04-0107_49_26.584721/model-00014-0.28065-0.90950-1.34118-0.47000.keras\n",
      "34/34 [==============================] - 110s 3s/step - loss: 0.2806 - categorical_accuracy: 0.9095 - val_loss: 1.3412 - val_categorical_accuracy: 0.4700 - lr: 4.0000e-05\n",
      "Epoch 15/20\n",
      "34/34 [==============================] - ETA: 0s - loss: 0.2628 - categorical_accuracy: 0.9170\n",
      "Epoch 00015: saving model to model_init_2025-04-0107_49_26.584721/model-00015-0.26282-0.91704-0.94296-0.60000.keras\n",
      "34/34 [==============================] - 111s 3s/step - loss: 0.2628 - categorical_accuracy: 0.9170 - val_loss: 0.9430 - val_categorical_accuracy: 0.6000 - lr: 4.0000e-05\n",
      "Epoch 16/20\n",
      "34/34 [==============================] - ETA: 0s - loss: 0.2430 - categorical_accuracy: 0.9291\n",
      "Epoch 00016: saving model to model_init_2025-04-0107_49_26.584721/model-00016-0.24303-0.92911-0.78941-0.68000.keras\n",
      "34/34 [==============================] - 108s 3s/step - loss: 0.2430 - categorical_accuracy: 0.9291 - val_loss: 0.7894 - val_categorical_accuracy: 0.6800 - lr: 4.0000e-05\n",
      "Epoch 17/20\n",
      "34/34 [==============================] - ETA: 0s - loss: 0.2604 - categorical_accuracy: 0.9148\n",
      "Epoch 00017: saving model to model_init_2025-04-0107_49_26.584721/model-00017-0.26042-0.91478-0.67399-0.73000.keras\n",
      "34/34 [==============================] - 105s 3s/step - loss: 0.2604 - categorical_accuracy: 0.9148 - val_loss: 0.6740 - val_categorical_accuracy: 0.7300 - lr: 4.0000e-05\n",
      "Epoch 18/20\n",
      "34/34 [==============================] - ETA: 0s - loss: 0.2722 - categorical_accuracy: 0.8997\n",
      "Epoch 00018: saving model to model_init_2025-04-0107_49_26.584721/model-00018-0.27220-0.89970-0.73734-0.68000.keras\n",
      "34/34 [==============================] - 105s 3s/step - loss: 0.2722 - categorical_accuracy: 0.8997 - val_loss: 0.7373 - val_categorical_accuracy: 0.6800 - lr: 4.0000e-05\n",
      "Epoch 19/20\n",
      "34/34 [==============================] - ETA: 0s - loss: 0.2454 - categorical_accuracy: 0.9208\n",
      "Epoch 00019: saving model to model_init_2025-04-0107_49_26.584721/model-00019-0.24544-0.92081-0.47598-0.80000.keras\n",
      "34/34 [==============================] - 106s 3s/step - loss: 0.2454 - categorical_accuracy: 0.9208 - val_loss: 0.4760 - val_categorical_accuracy: 0.8000 - lr: 4.0000e-05\n",
      "Epoch 20/20\n",
      "34/34 [==============================] - ETA: 0s - loss: 0.2553 - categorical_accuracy: 0.9140\n",
      "Epoch 00020: saving model to model_init_2025-04-0107_49_26.584721/model-00020-0.25535-0.91403-0.50696-0.75000.keras\n",
      "34/34 [==============================] - 106s 3s/step - loss: 0.2553 - categorical_accuracy: 0.9140 - val_loss: 0.5070 - val_categorical_accuracy: 0.7500 - lr: 4.0000e-05\n"
     ]
    }
   ],
   "source": [
    "print(\"Total Parameters: \", rnn_cnn_model_3.count_params())\n",
    "model_3 = rnn_cnn_3.train_model(rnn_cnn_model_3, augment_data=True)"
   ]
  },
  {
   "cell_type": "code",
   "execution_count": 61,
   "metadata": {
    "id": "14PpQ_MGDgKz"
   },
   "outputs": [
    {
     "data": {
      "image/png": "[encoded data removed]",
      "text/plain": [
       "<Figure size 1080x288 with 2 Axes>"
      ]
     },
     "metadata": {
      "needs_background": "light"
     },
     "output_type": "display_data"
    }
   ],
   "source": [
    "plot(model_3)"
   ]
  },
  {
   "cell_type": "markdown",
   "metadata": {
    "id": "VT2HzpC4DgK0"
   },
   "source": [
    "***Observations:***\n",
    "\n",
    "The **training accuracy continues to improve, reaching 91%**, while the **validation accuracy peaks at 75%**, still suggesting potential overfitting. To combat this, we plan to **explore an alternative architecture by integrating CNN with GRU**, keeping the same number of frames, to enhance generalization and performance."
   ]
  },
  {
   "cell_type": "markdown",
   "metadata": {
    "id": "FxlmLjf1DgK0"
   },
   "source": [
    "### Model 4 - CNN with GRU"
   ]
  },
  {
   "cell_type": "code",
   "execution_count": 65,
   "metadata": {
    "id": "KnQW6-ITDgK0"
   },
   "outputs": [],
   "source": [
    "class RNNCNN2(BuildModel):\n",
    "\n",
    "    def model_definition(self, cells=64, dense_neurons=64, dropout=0.25):\n",
    "\n",
    "        model = Sequential()\n",
    "\n",
    "        model.add(TimeDistributed(Conv2D(16, (3, 3), padding='same', activation='relu'),\n",
    "            input_shape=(self.number_of_sample_frames, self.image_height, self.image_width, self.channels)))\n",
    "        model.add(TimeDistributed(BatchNormalization()))\n",
    "        model.add(TimeDistributed(MaxPooling2D((2, 2))))\n",
    "\n",
    "        model.add(TimeDistributed(Conv2D(32, (3, 3), padding='same', activation='relu')))\n",
    "        model.add(TimeDistributed(BatchNormalization()))\n",
    "        model.add(TimeDistributed(MaxPooling2D((2, 2))))\n",
    "\n",
    "        model.add(TimeDistributed(Conv2D(64, (3, 3), padding='same', activation='relu')))\n",
    "        model.add(TimeDistributed(BatchNormalization()))\n",
    "        model.add(TimeDistributed(MaxPooling2D((2, 2))))\n",
    "\n",
    "        model.add(TimeDistributed(Conv2D(128, (3, 3), padding='same', activation='relu')))\n",
    "        model.add(TimeDistributed(BatchNormalization()))\n",
    "        model.add(TimeDistributed(MaxPooling2D((2, 2))))\n",
    "\n",
    "\n",
    "        model.add(TimeDistributed(Flatten()))\n",
    "\n",
    "\n",
    "        model.add(GRU(cells))\n",
    "        model.add(Dropout(dropout))\n",
    "\n",
    "        model.add(Dense(dense_neurons, activation='relu'))\n",
    "        model.add(Dropout(dropout))\n",
    "\n",
    "        model.add(Dense(self.num_classes, activation='softmax'))\n",
    "        optimizer = Adam(learning_rate=0.002)\n",
    "        model.compile(optimizer=optimizer, loss='categorical_crossentropy', metrics=['categorical_accuracy'])\n",
    "        return model"
   ]
  },
  {
   "cell_type": "code",
   "execution_count": 66,
   "metadata": {
    "id": "uk66RX58DgK0"
   },
   "outputs": [
    {
     "name": "stdout",
     "output_type": "stream",
     "text": [
      "Model: \"sequential_9\"\n",
      "_________________________________________________________________\n",
      " Layer (type)                Output Shape              Param #   \n",
      "=================================================================\n",
      " time_distributed_141 (TimeD  (None, 18, 120, 120, 16)  448      \n",
      " istributed)                                                     \n",
      "                                                                 \n",
      " time_distributed_142 (TimeD  (None, 18, 120, 120, 16)  64       \n",
      " istributed)                                                     \n",
      "                                                                 \n",
      " time_distributed_143 (TimeD  (None, 18, 60, 60, 16)   0         \n",
      " istributed)                                                     \n",
      "                                                                 \n",
      " time_distributed_144 (TimeD  (None, 18, 60, 60, 32)   4640      \n",
      " istributed)                                                     \n",
      "                                                                 \n",
      " time_distributed_145 (TimeD  (None, 18, 60, 60, 32)   128       \n",
      " istributed)                                                     \n",
      "                                                                 \n",
      " time_distributed_146 (TimeD  (None, 18, 30, 30, 32)   0         \n",
      " istributed)                                                     \n",
      "                                                                 \n",
      " time_distributed_147 (TimeD  (None, 18, 30, 30, 64)   18496     \n",
      " istributed)                                                     \n",
      "                                                                 \n",
      " time_distributed_148 (TimeD  (None, 18, 30, 30, 64)   256       \n",
      " istributed)                                                     \n",
      "                                                                 \n",
      " time_distributed_149 (TimeD  (None, 18, 15, 15, 64)   0         \n",
      " istributed)                                                     \n",
      "                                                                 \n",
      " time_distributed_150 (TimeD  (None, 18, 15, 15, 128)  73856     \n",
      " istributed)                                                     \n",
      "                                                                 \n",
      " time_distributed_151 (TimeD  (None, 18, 15, 15, 128)  512       \n",
      " istributed)                                                     \n",
      "                                                                 \n",
      " time_distributed_152 (TimeD  (None, 18, 7, 7, 128)    0         \n",
      " istributed)                                                     \n",
      "                                                                 \n",
      " time_distributed_153 (TimeD  (None, 18, 6272)         0         \n",
      " istributed)                                                     \n",
      "                                                                 \n",
      " gru_1 (GRU)                 (None, 128)               2458368   \n",
      "                                                                 \n",
      " dropout_18 (Dropout)        (None, 128)               0         \n",
      "                                                                 \n",
      " dense_18 (Dense)            (None, 128)               16512     \n",
      "                                                                 \n",
      " dropout_19 (Dropout)        (None, 128)               0         \n",
      "                                                                 \n",
      " dense_19 (Dense)            (None, 5)                 645       \n",
      "                                                                 \n",
      "=================================================================\n",
      "Total params: 2,573,925\n",
      "Trainable params: 2,573,445\n",
      "Non-trainable params: 480\n",
      "_________________________________________________________________\n"
     ]
    }
   ],
   "source": [
    "rnn_cnn_4 = RNNCNN2()\n",
    "rnn_cnn_4.initialize_path(BASE_PATH)\n",
    "rnn_cnn_4.initialize_image_props(image_height=120, image_width=120)\n",
    "rnn_cnn_4.initialize_hyperparameters(number_of_sample_frames=18, batch_size=20, num_epochs=20)\n",
    "rnn_cnn_model_4 = rnn_cnn_4.model_definition(cells=128, dense_neurons=128, dropout=0.25)\n",
    "rnn_cnn_model_4.summary()"
   ]
  },
  {
   "cell_type": "code",
   "execution_count": 67,
   "metadata": {
    "id": "B58EE1SbDgK1"
   },
   "outputs": [
    {
     "name": "stdout",
     "output_type": "stream",
     "text": [
      "Total Parameters:  2573925\n",
      "Epoch 1/20\n",
      "34/34 [==============================] - ETA: 0s - loss: 1.5002 - categorical_accuracy: 0.3590\n",
      "Epoch 00001: saving model to model_init_2025-04-0108_36_28.247678/model-00001-1.50021-0.35897-1.84452-0.27000.keras\n",
      "34/34 [==============================] - 111s 3s/step - loss: 1.5002 - categorical_accuracy: 0.3590 - val_loss: 1.8445 - val_categorical_accuracy: 0.2700 - lr: 0.0020\n",
      "Epoch 2/20\n",
      "34/34 [==============================] - ETA: 0s - loss: 1.1623 - categorical_accuracy: 0.5173\n",
      "Epoch 00002: saving model to model_init_2025-04-0108_36_28.247678/model-00002-1.16232-0.51735-2.00053-0.27000.keras\n",
      "34/34 [==============================] - 111s 3s/step - loss: 1.1623 - categorical_accuracy: 0.5173 - val_loss: 2.0005 - val_categorical_accuracy: 0.2700 - lr: 0.0020\n",
      "Epoch 3/20\n",
      "34/34 [==============================] - ETA: 0s - loss: 1.0463 - categorical_accuracy: 0.5656\n",
      "Epoch 00003: saving model to model_init_2025-04-0108_36_28.247678/model-00003-1.04627-0.56561-1.83124-0.37000.keras\n",
      "34/34 [==============================] - 108s 3s/step - loss: 1.0463 - categorical_accuracy: 0.5656 - val_loss: 1.8312 - val_categorical_accuracy: 0.3700 - lr: 0.0020\n",
      "Epoch 4/20\n",
      "34/34 [==============================] - ETA: 0s - loss: 0.8899 - categorical_accuracy: 0.6297\n",
      "Epoch 00004: saving model to model_init_2025-04-0108_36_28.247678/model-00004-0.88986-0.62971-2.22549-0.33000.keras\n",
      "34/34 [==============================] - 108s 3s/step - loss: 0.8899 - categorical_accuracy: 0.6297 - val_loss: 2.2255 - val_categorical_accuracy: 0.3300 - lr: 0.0020\n",
      "Epoch 5/20\n",
      "34/34 [==============================] - ETA: 0s - loss: 0.8536 - categorical_accuracy: 0.6440\n",
      "Epoch 00005: saving model to model_init_2025-04-0108_36_28.247678/model-00005-0.85363-0.64404-1.54978-0.41000.keras\n",
      "34/34 [==============================] - 109s 3s/step - loss: 0.8536 - categorical_accuracy: 0.6440 - val_loss: 1.5498 - val_categorical_accuracy: 0.4100 - lr: 0.0020\n",
      "Epoch 6/20\n",
      "34/34 [==============================] - ETA: 0s - loss: 0.8472 - categorical_accuracy: 0.6538\n",
      "Epoch 00006: saving model to model_init_2025-04-0108_36_28.247678/model-00006-0.84723-0.65385-1.74070-0.29000.keras\n",
      "34/34 [==============================] - 110s 3s/step - loss: 0.8472 - categorical_accuracy: 0.6538 - val_loss: 1.7407 - val_categorical_accuracy: 0.2900 - lr: 0.0020\n",
      "Epoch 7/20\n",
      "34/34 [==============================] - ETA: 0s - loss: 0.7682 - categorical_accuracy: 0.6817\n",
      "Epoch 00007: saving model to model_init_2025-04-0108_36_28.247678/model-00007-0.76820-0.68175-2.19546-0.25000.keras\n",
      "34/34 [==============================] - 109s 3s/step - loss: 0.7682 - categorical_accuracy: 0.6817 - val_loss: 2.1955 - val_categorical_accuracy: 0.2500 - lr: 0.0020\n",
      "Epoch 8/20\n",
      "34/34 [==============================] - ETA: 0s - loss: 0.7612 - categorical_accuracy: 0.6908\n",
      "Epoch 00008: saving model to model_init_2025-04-0108_36_28.247678/model-00008-0.76123-0.69080-1.40560-0.32000.keras\n",
      "34/34 [==============================] - 110s 3s/step - loss: 0.7612 - categorical_accuracy: 0.6908 - val_loss: 1.4056 - val_categorical_accuracy: 0.3200 - lr: 0.0020\n",
      "Epoch 9/20\n",
      "34/34 [==============================] - ETA: 0s - loss: 0.6288 - categorical_accuracy: 0.7368\n",
      "Epoch 00009: saving model to model_init_2025-04-0108_36_28.247678/model-00009-0.62881-0.73680-2.37342-0.25000.keras\n",
      "34/34 [==============================] - 110s 3s/step - loss: 0.6288 - categorical_accuracy: 0.7368 - val_loss: 2.3734 - val_categorical_accuracy: 0.2500 - lr: 0.0020\n",
      "Epoch 10/20\n",
      "34/34 [==============================] - ETA: 0s - loss: 0.5732 - categorical_accuracy: 0.7707\n",
      "Epoch 00010: saving model to model_init_2025-04-0108_36_28.247678/model-00010-0.57322-0.77074-1.49811-0.43000.keras\n",
      "34/34 [==============================] - 109s 3s/step - loss: 0.5732 - categorical_accuracy: 0.7707 - val_loss: 1.4981 - val_categorical_accuracy: 0.4300 - lr: 0.0020\n",
      "Epoch 11/20\n",
      "34/34 [==============================] - ETA: 0s - loss: 0.5597 - categorical_accuracy: 0.7594\n",
      "Epoch 00011: saving model to model_init_2025-04-0108_36_28.247678/model-00011-0.55967-0.75943-0.98852-0.60000.keras\n",
      "34/34 [==============================] - 111s 3s/step - loss: 0.5597 - categorical_accuracy: 0.7594 - val_loss: 0.9885 - val_categorical_accuracy: 0.6000 - lr: 0.0020\n",
      "Epoch 12/20\n",
      "34/34 [==============================] - ETA: 0s - loss: 0.6097 - categorical_accuracy: 0.7609\n",
      "Epoch 00012: saving model to model_init_2025-04-0108_36_28.247678/model-00012-0.60966-0.76094-1.30300-0.41000.keras\n",
      "34/34 [==============================] - 110s 3s/step - loss: 0.6097 - categorical_accuracy: 0.7609 - val_loss: 1.3030 - val_categorical_accuracy: 0.4100 - lr: 0.0020\n",
      "Epoch 13/20\n",
      "34/34 [==============================] - ETA: 0s - loss: 0.5743 - categorical_accuracy: 0.7745\n",
      "Epoch 00013: saving model to model_init_2025-04-0108_36_28.247678/model-00013-0.57433-0.77451-1.20226-0.58000.keras\n",
      "34/34 [==============================] - 108s 3s/step - loss: 0.5743 - categorical_accuracy: 0.7745 - val_loss: 1.2023 - val_categorical_accuracy: 0.5800 - lr: 0.0020\n",
      "Epoch 14/20\n",
      "34/34 [==============================] - ETA: 0s - loss: 0.5893 - categorical_accuracy: 0.7640\n",
      "Epoch 00014: saving model to model_init_2025-04-0108_36_28.247678/model-00014-0.58926-0.76395-1.21030-0.58000.keras\n",
      "34/34 [==============================] - 108s 3s/step - loss: 0.5893 - categorical_accuracy: 0.7640 - val_loss: 1.2103 - val_categorical_accuracy: 0.5800 - lr: 0.0020\n",
      "Epoch 15/20\n",
      "34/34 [==============================] - ETA: 0s - loss: 0.5505 - categorical_accuracy: 0.7919\n",
      "Epoch 00015: saving model to model_init_2025-04-0108_36_28.247678/model-00015-0.55047-0.79186-1.13187-0.63000.keras\n",
      "\n",
      "Epoch 00015: ReduceLROnPlateau reducing learning rate to 0.0004000000189989805.\n",
      "34/34 [==============================] - 110s 3s/step - loss: 0.5505 - categorical_accuracy: 0.7919 - val_loss: 1.1319 - val_categorical_accuracy: 0.6300 - lr: 0.0020\n",
      "Epoch 16/20\n",
      "34/34 [==============================] - ETA: 0s - loss: 0.4465 - categorical_accuracy: 0.8303\n",
      "Epoch 00016: saving model to model_init_2025-04-0108_36_28.247678/model-00016-0.44649-0.83032-0.79747-0.68000.keras\n",
      "34/34 [==============================] - 110s 3s/step - loss: 0.4465 - categorical_accuracy: 0.8303 - val_loss: 0.7975 - val_categorical_accuracy: 0.6800 - lr: 4.0000e-04\n",
      "Epoch 17/20\n",
      "34/34 [==============================] - ETA: 0s - loss: 0.3831 - categorical_accuracy: 0.8612\n",
      "Epoch 00017: saving model to model_init_2025-04-0108_36_28.247678/model-00017-0.38314-0.86124-0.60732-0.76000.keras\n",
      "34/34 [==============================] - 108s 3s/step - loss: 0.3831 - categorical_accuracy: 0.8612 - val_loss: 0.6073 - val_categorical_accuracy: 0.7600 - lr: 4.0000e-04\n",
      "Epoch 18/20\n",
      "34/34 [==============================] - ETA: 0s - loss: 0.3763 - categorical_accuracy: 0.8537\n",
      "Epoch 00018: saving model to model_init_2025-04-0108_36_28.247678/model-00018-0.37626-0.85370-0.55710-0.75000.keras\n",
      "34/34 [==============================] - 110s 3s/step - loss: 0.3763 - categorical_accuracy: 0.8537 - val_loss: 0.5571 - val_categorical_accuracy: 0.7500 - lr: 4.0000e-04\n",
      "Epoch 19/20\n",
      "34/34 [==============================] - ETA: 0s - loss: 0.3055 - categorical_accuracy: 0.8816\n",
      "Epoch 00019: saving model to model_init_2025-04-0108_36_28.247678/model-00019-0.30549-0.88160-0.50855-0.80000.keras\n",
      "34/34 [==============================] - 108s 3s/step - loss: 0.3055 - categorical_accuracy: 0.8816 - val_loss: 0.5085 - val_categorical_accuracy: 0.8000 - lr: 4.0000e-04\n",
      "Epoch 20/20\n",
      "34/34 [==============================] - ETA: 0s - loss: 0.3242 - categorical_accuracy: 0.8771\n",
      "Epoch 00020: saving model to model_init_2025-04-0108_36_28.247678/model-00020-0.32418-0.87707-0.44373-0.82000.keras\n",
      "34/34 [==============================] - 108s 3s/step - loss: 0.3242 - categorical_accuracy: 0.8771 - val_loss: 0.4437 - val_categorical_accuracy: 0.8200 - lr: 4.0000e-04\n"
     ]
    }
   ],
   "source": [
    "print(\"Total Parameters: \", rnn_cnn_model_4.count_params())\n",
    "model_4 = rnn_cnn_4.train_model(rnn_cnn_model_4, augment_data=True)"
   ]
  },
  {
   "cell_type": "code",
   "execution_count": 68,
   "metadata": {
    "id": "QQsjBdk_DgK1"
   },
   "outputs": [
    {
     "data": {
      "image/png": "[encoded data removed]",
      "text/plain": [
       "<Figure size 1080x288 with 2 Axes>"
      ]
     },
     "metadata": {
      "needs_background": "light"
     },
     "output_type": "display_data"
    }
   ],
   "source": [
    "plot(model_4)"
   ]
  },
  {
   "cell_type": "markdown",
   "metadata": {
    "id": "iD8k_f1xDgK1"
   },
   "source": [
    "***Observations:***\n",
    "\n",
    "Integrating **GRU-RNN** led to a **slight drop in training accuracy to 87%**, while **validation accuracy declined to 82%**, signaling overfitting. To address this, we plan to **introduce additional augmentation techniques, such as rotation**, and reattempt the same architecture to improve generalization and mitigate overfitting."
   ]
  },
  {
   "cell_type": "markdown",
   "metadata": {
    "id": "ssDnnoN_DgK1"
   },
   "source": [
    "### Enhance `BuildModel` class to incorporate additional augmentation techniques such as `Rotation`"
   ]
  },
  {
   "cell_type": "code",
   "execution_count": 8,
   "metadata": {
    "id": "gLNlTG3eDgK1"
   },
   "outputs": [],
   "source": [
    "class BuildModelWithRotation(metaclass=abc.ABCMeta):\n",
    "\n",
    "    def initialize_path(self, BASE_PATH):\n",
    "\n",
    "        self.train_doc = np.random.permutation(open(BASE_PATH + '/' + 'train.csv').readlines())\n",
    "        self.val_doc = np.random.permutation(open(BASE_PATH + '/' + 'val.csv').readlines())\n",
    "        self.train_path = BASE_PATH + '/' + 'train'\n",
    "        self.val_path = BASE_PATH + '/' + 'val'\n",
    "        self.num_train_sequences = len(self.train_doc)\n",
    "        self.num_val_sequences = len(self.val_doc)\n",
    "\n",
    "    def initialize_image_props(self, image_height=100, image_width=100):\n",
    "\n",
    "        self.image_height = image_height\n",
    "        self.image_width = image_width\n",
    "        self.channels = 3\n",
    "        self.num_classes = 5\n",
    "        self.total_frames = 30\n",
    "\n",
    "    def initialize_hyperparameters(self, number_of_sample_frames=30, batch_size=20, num_epochs=20):\n",
    "\n",
    "        self.number_of_sample_frames = number_of_sample_frames\n",
    "        self.batch_size = batch_size\n",
    "        self.num_epochs = num_epochs\n",
    "\n",
    "\n",
    "    def generator(self, source_path, folder_list, augment=False):\n",
    "\n",
    "        img_idx = np.round(np.linspace(0, self.total_frames - 1, self.number_of_sample_frames, dtype=int))\n",
    "        batch_size = self.batch_size\n",
    "\n",
    "        while True:\n",
    "            t = np.random.permutation(folder_list)\n",
    "            num_batches = len(t) // batch_size\n",
    "\n",
    "            for batch in range(num_batches):\n",
    "                batch_data, batch_labels = self.one_batch_data(source_path, t, batch, batch_size, img_idx, augment)\n",
    "                yield batch_data, batch_labels\n",
    "\n",
    "            remaining_samples = len(t) % batch_size\n",
    "\n",
    "            if (remaining_samples != 0):\n",
    "                batch_data, batch_labels = self.one_batch_data(source_path, t, num_batches, batch_size, img_idx, augment, remaining_samples)\n",
    "                yield batch_data, batch_labels\n",
    "\n",
    "\n",
    "    def one_batch_data(self, source_path, t, batch, batch_size, img_idx, augment, remaining_samples=0):\n",
    "\n",
    "        seq_length = remaining_samples if remaining_samples else batch_size\n",
    "\n",
    "        batch_data = np.zeros((seq_length, len(img_idx), self.image_height, self.image_width, self.channels))\n",
    "        batch_labels = np.zeros((seq_length, self.num_classes))\n",
    "\n",
    "        if (augment):\n",
    "            batch_data_aug = np.zeros((seq_length, len(img_idx), self.image_height, self.image_width, self.channels))\n",
    "\n",
    "\n",
    "        for folder in range(seq_length):\n",
    "            imgs = os.listdir(source_path + '/' + t[folder + (batch*batch_size)].split(';')[0])\n",
    "            for idx, item in enumerate(img_idx):\n",
    "                image = imageio.imread(source_path + '/' + t[folder + (batch*batch_size)].strip().split(';')[0] + '/' + imgs[item]).astype(np.float32)\n",
    "                image_resized = resize(image, (self.image_height, self.image_width, 3))\n",
    "\n",
    "\n",
    "                # Normalization of RGB channels\n",
    "                batch_data[folder, idx, :, :, 0] = (image_resized[:, :, 0])/255\n",
    "                batch_data[folder, idx, :, :, 1] = (image_resized[:, :, 1])/255\n",
    "                batch_data[folder, idx, :, :, 2] = (image_resized[:, :, 2])/255\n",
    "\n",
    "                if (augment):\n",
    "                    shifted = cv2.warpAffine(image,\n",
    "                                             np.float32([[1, 0, np.random.randint(-30,30)], [0, 1, np.random.randint(-30, 30)]]),\n",
    "                                            (image.shape[1], image.shape[0]))\n",
    "\n",
    "                    gray = cv2.cvtColor(shifted, cv2.COLOR_BGR2GRAY)\n",
    "\n",
    "                    x0, y0 = np.argwhere(gray > 0).min(axis=0)\n",
    "                    x1, y1 = np.argwhere(gray > 0).max(axis=0)\n",
    "\n",
    "                    cropped = shifted[x0:x1, y0:y1, :]\n",
    "\n",
    "                    image_resized = resize(cropped, (self.image_height, self.image_width, 3))\n",
    "\n",
    "                    matrix2d = cv2.getRotationMatrix2D((self.image_width//2, self.image_height//2),\n",
    "                                                np.random.randint(-10,10), 1.0)\n",
    "                    rotated = cv2.warpAffine(image_resized, matrix2d, (self.image_width, self.image_height))\n",
    "\n",
    "                    batch_data_aug[folder, idx, :, :, 0] = (rotated[:, :, 0])/255\n",
    "                    batch_data_aug[folder, idx, :, :, 1] = (rotated[:, :, 1])/255\n",
    "                    batch_data_aug[folder, idx, :, :, 2] = (rotated[:, :, 2])/255\n",
    "\n",
    "\n",
    "            batch_labels[folder, int(t[folder + (batch*batch_size)].strip().split(';')[2])] = 1\n",
    "\n",
    "\n",
    "        if (augment):\n",
    "            batch_data = np.concatenate([batch_data, batch_data_aug])\n",
    "            batch_labels = np.concatenate([batch_labels, batch_labels])\n",
    "\n",
    "\n",
    "        return(batch_data, batch_labels)\n",
    "\n",
    "\n",
    "    def train_model(self, model, augment_data=False):\n",
    "\n",
    "        train_generator = self.generator(self.train_path, self.train_doc, augment=augment_data)\n",
    "        val_generator = self.generator(self.val_path, self.val_doc)\n",
    "\n",
    "        # Create a directory with model name and current datetime\n",
    "        model_name = 'model_init' + '_' + str(datetime.datetime.now()).replace(' ', '').replace(':', '_') + '/'\n",
    "\n",
    "        if not os.path.exists(model_name):\n",
    "            os.mkdir(model_name)\n",
    "\n",
    "        # Generate model file inside the created folder\n",
    "        filepath = model_name + 'model-{epoch:05d}-{loss:.5f}-{categorical_accuracy:.5f}-{val_loss:.5f}-{val_categorical_accuracy:.5f}.keras'\n",
    "\n",
    "        # Add model checkpoint\n",
    "        checkpoint = ModelCheckpoint(filepath, monitor='val_loss', verbose=1, save_best_only=False, save_weights_only=False, mode='auto', save_freq='epoch')\n",
    "\n",
    "        # Add learning rate\n",
    "        LR = ReduceLROnPlateau(monitor='val_loss', factor=0.2, verbose=1, patience=4)\n",
    "        callbacks_list = [checkpoint, LR]\n",
    "\n",
    "        # Calculate steps per epoch\n",
    "        if (self.num_train_sequences % self.batch_size) == 0:\n",
    "            steps_per_epoch = int(self.num_train_sequences/self.batch_size)\n",
    "        else:\n",
    "            steps_per_epoch = (self.num_train_sequences//self.batch_size) + 1\n",
    "\n",
    "        if (self.num_val_sequences % self.batch_size) == 0:\n",
    "            validation_steps = int(self.num_val_sequences/self.batch_size)\n",
    "        else:\n",
    "            validation_steps = (self.num_val_sequences//self.batch_size) + 1\n",
    "\n",
    "        # Fit the model\n",
    "        history = model.fit(train_generator, steps_per_epoch=steps_per_epoch, epochs=self.num_epochs, verbose=1,\n",
    "                            callbacks=callbacks_list, validation_data=val_generator,\n",
    "                            validation_steps=validation_steps, class_weight=None, workers=1, initial_epoch=0)\n",
    "        return history\n",
    "\n",
    "\n",
    "    @abc.abstractmethod\n",
    "    def model_definition(self):\n",
    "\n",
    "        pass\n"
   ]
  },
  {
   "cell_type": "markdown",
   "metadata": {
    "id": "cHqTVGvBDgK2"
   },
   "source": [
    "### Model 5 - CNN with LSTM (with modified Augmentation Technique)"
   ]
  },
  {
   "cell_type": "code",
   "execution_count": 70,
   "metadata": {
    "id": "E8LDTyAkDgK3"
   },
   "outputs": [],
   "source": [
    "class RNNCNN3(BuildModelWithRotation):\n",
    "\n",
    "    def model_definition(self, cells=64, dense_neurons=64, dropout=0.25):\n",
    "\n",
    "        model = Sequential()\n",
    "\n",
    "        model.add(TimeDistributed(Conv2D(16, (3, 3), padding='same', activation='relu'),\n",
    "            input_shape=(self.number_of_sample_frames, self.image_height, self.image_width, self.channels)))\n",
    "        model.add(TimeDistributed(BatchNormalization()))\n",
    "        model.add(TimeDistributed(MaxPooling2D((2, 2))))\n",
    "\n",
    "        model.add(TimeDistributed(Conv2D(32, (3, 3), padding='same', activation='relu')))\n",
    "        model.add(TimeDistributed(BatchNormalization()))\n",
    "        model.add(TimeDistributed(MaxPooling2D((2, 2))))\n",
    "\n",
    "        model.add(TimeDistributed(Conv2D(64, (3, 3), padding='same', activation='relu')))\n",
    "        model.add(TimeDistributed(BatchNormalization()))\n",
    "        model.add(TimeDistributed(MaxPooling2D((2, 2))))\n",
    "\n",
    "        model.add(TimeDistributed(Conv2D(128, (3, 3), padding='same', activation='relu')))\n",
    "        model.add(TimeDistributed(BatchNormalization()))\n",
    "        model.add(TimeDistributed(MaxPooling2D((2, 2))))\n",
    "\n",
    "        model.add(TimeDistributed(Conv2D(256, (3, 3), padding='same', activation='relu')))\n",
    "        model.add(TimeDistributed(BatchNormalization()))\n",
    "        model.add(TimeDistributed(MaxPooling2D((2, 2))))\n",
    "\n",
    "        model.add(TimeDistributed(Flatten()))\n",
    "\n",
    "\n",
    "        model.add(LSTM(cells))\n",
    "        model.add(Dropout(dropout))\n",
    "\n",
    "        model.add(Dense(dense_neurons, activation='relu'))\n",
    "        model.add(Dropout(dropout))\n",
    "\n",
    "        model.add(Dense(self.num_classes, activation='softmax'))\n",
    "        optimizer = Adam(learning_rate=0.001)\n",
    "        model.compile(optimizer=optimizer, loss='categorical_crossentropy', metrics=['categorical_accuracy'])\n",
    "        return model"
   ]
  },
  {
   "cell_type": "code",
   "execution_count": 71,
   "metadata": {
    "id": "U94otyrBDgK3"
   },
   "outputs": [
    {
     "name": "stdout",
     "output_type": "stream",
     "text": [
      "Model: \"sequential_10\"\n",
      "_________________________________________________________________\n",
      " Layer (type)                Output Shape              Param #   \n",
      "=================================================================\n",
      " time_distributed_154 (TimeD  (None, 18, 120, 120, 16)  448      \n",
      " istributed)                                                     \n",
      "                                                                 \n",
      " time_distributed_155 (TimeD  (None, 18, 120, 120, 16)  64       \n",
      " istributed)                                                     \n",
      "                                                                 \n",
      " time_distributed_156 (TimeD  (None, 18, 60, 60, 16)   0         \n",
      " istributed)                                                     \n",
      "                                                                 \n",
      " time_distributed_157 (TimeD  (None, 18, 60, 60, 32)   4640      \n",
      " istributed)                                                     \n",
      "                                                                 \n",
      " time_distributed_158 (TimeD  (None, 18, 60, 60, 32)   128       \n",
      " istributed)                                                     \n",
      "                                                                 \n",
      " time_distributed_159 (TimeD  (None, 18, 30, 30, 32)   0         \n",
      " istributed)                                                     \n",
      "                                                                 \n",
      " time_distributed_160 (TimeD  (None, 18, 30, 30, 64)   18496     \n",
      " istributed)                                                     \n",
      "                                                                 \n",
      " time_distributed_161 (TimeD  (None, 18, 30, 30, 64)   256       \n",
      " istributed)                                                     \n",
      "                                                                 \n",
      " time_distributed_162 (TimeD  (None, 18, 15, 15, 64)   0         \n",
      " istributed)                                                     \n",
      "                                                                 \n",
      " time_distributed_163 (TimeD  (None, 18, 15, 15, 128)  73856     \n",
      " istributed)                                                     \n",
      "                                                                 \n",
      " time_distributed_164 (TimeD  (None, 18, 15, 15, 128)  512       \n",
      " istributed)                                                     \n",
      "                                                                 \n",
      " time_distributed_165 (TimeD  (None, 18, 7, 7, 128)    0         \n",
      " istributed)                                                     \n",
      "                                                                 \n",
      " time_distributed_166 (TimeD  (None, 18, 7, 7, 256)    295168    \n",
      " istributed)                                                     \n",
      "                                                                 \n",
      " time_distributed_167 (TimeD  (None, 18, 7, 7, 256)    1024      \n",
      " istributed)                                                     \n",
      "                                                                 \n",
      " time_distributed_168 (TimeD  (None, 18, 3, 3, 256)    0         \n",
      " istributed)                                                     \n",
      "                                                                 \n",
      " time_distributed_169 (TimeD  (None, 18, 2304)         0         \n",
      " istributed)                                                     \n",
      "                                                                 \n",
      " lstm_8 (LSTM)               (None, 128)               1245696   \n",
      "                                                                 \n",
      " dropout_20 (Dropout)        (None, 128)               0         \n",
      "                                                                 \n",
      " dense_20 (Dense)            (None, 128)               16512     \n",
      "                                                                 \n",
      " dropout_21 (Dropout)        (None, 128)               0         \n",
      "                                                                 \n",
      " dense_21 (Dense)            (None, 5)                 645       \n",
      "                                                                 \n",
      "=================================================================\n",
      "Total params: 1,657,445\n",
      "Trainable params: 1,656,453\n",
      "Non-trainable params: 992\n",
      "_________________________________________________________________\n"
     ]
    }
   ],
   "source": [
    "rnn_cnn_5 = RNNCNN3()\n",
    "rnn_cnn_5.initialize_path(BASE_PATH)\n",
    "rnn_cnn_5.initialize_image_props(image_height=120, image_width=120)\n",
    "rnn_cnn_5.initialize_hyperparameters(number_of_sample_frames=18, batch_size=20, num_epochs=20)\n",
    "rnn_cnn_model_5 = rnn_cnn_5.model_definition(cells=128, dense_neurons=128, dropout=0.25)\n",
    "rnn_cnn_model_5.summary()"
   ]
  },
  {
   "cell_type": "code",
   "execution_count": 72,
   "metadata": {
    "id": "BSfm3I0qDgK3"
   },
   "outputs": [
    {
     "name": "stdout",
     "output_type": "stream",
     "text": [
      "Total Parameters:  1657445\n",
      "Epoch 1/20\n",
      "34/34 [==============================] - ETA: 0s - loss: 1.3969 - categorical_accuracy: 0.4005\n",
      "Epoch 00001: saving model to model_init_2025-04-0109_13_51.626567/model-00001-1.39690-0.40045-1.82620-0.17000.keras\n",
      "34/34 [==============================] - 111s 3s/step - loss: 1.3969 - categorical_accuracy: 0.4005 - val_loss: 1.8262 - val_categorical_accuracy: 0.1700 - lr: 0.0010\n",
      "Epoch 2/20\n",
      "34/34 [==============================] - ETA: 0s - loss: 1.1066 - categorical_accuracy: 0.5422\n",
      "Epoch 00002: saving model to model_init_2025-04-0109_13_51.626567/model-00002-1.10658-0.54223-1.94958-0.17000.keras\n",
      "34/34 [==============================] - 110s 3s/step - loss: 1.1066 - categorical_accuracy: 0.5422 - val_loss: 1.9496 - val_categorical_accuracy: 0.1700 - lr: 0.0010\n",
      "Epoch 3/20\n",
      "34/34 [==============================] - ETA: 0s - loss: 1.0432 - categorical_accuracy: 0.5649\n",
      "Epoch 00003: saving model to model_init_2025-04-0109_13_51.626567/model-00003-1.04319-0.56486-2.37138-0.26000.keras\n",
      "34/34 [==============================] - 108s 3s/step - loss: 1.0432 - categorical_accuracy: 0.5649 - val_loss: 2.3714 - val_categorical_accuracy: 0.2600 - lr: 0.0010\n",
      "Epoch 4/20\n",
      "34/34 [==============================] - ETA: 0s - loss: 0.9174 - categorical_accuracy: 0.6493\n",
      "Epoch 00004: saving model to model_init_2025-04-0109_13_51.626567/model-00004-0.91738-0.64932-2.27742-0.16000.keras\n",
      "34/34 [==============================] - 110s 3s/step - loss: 0.9174 - categorical_accuracy: 0.6493 - val_loss: 2.2774 - val_categorical_accuracy: 0.1600 - lr: 0.0010\n",
      "Epoch 5/20\n",
      "34/34 [==============================] - ETA: 0s - loss: 0.8645 - categorical_accuracy: 0.6750\n",
      "Epoch 00005: saving model to model_init_2025-04-0109_13_51.626567/model-00005-0.86452-0.67496-2.24086-0.26000.keras\n",
      "\n",
      "Epoch 00005: ReduceLROnPlateau reducing learning rate to 0.00020000000949949026.\n",
      "34/34 [==============================] - 110s 3s/step - loss: 0.8645 - categorical_accuracy: 0.6750 - val_loss: 2.2409 - val_categorical_accuracy: 0.2600 - lr: 0.0010\n",
      "Epoch 6/20\n",
      "34/34 [==============================] - ETA: 0s - loss: 0.6367 - categorical_accuracy: 0.7677\n",
      "Epoch 00006: saving model to model_init_2025-04-0109_13_51.626567/model-00006-0.63666-0.76772-2.34327-0.25000.keras\n",
      "34/34 [==============================] - 110s 3s/step - loss: 0.6367 - categorical_accuracy: 0.7677 - val_loss: 2.3433 - val_categorical_accuracy: 0.2500 - lr: 2.0000e-04\n",
      "Epoch 7/20\n",
      "34/34 [==============================] - ETA: 0s - loss: 0.5643 - categorical_accuracy: 0.8009\n",
      "Epoch 00007: saving model to model_init_2025-04-0109_13_51.626567/model-00007-0.56429-0.80090-2.21670-0.23000.keras\n",
      "34/34 [==============================] - 111s 3s/step - loss: 0.5643 - categorical_accuracy: 0.8009 - val_loss: 2.2167 - val_categorical_accuracy: 0.2300 - lr: 2.0000e-04\n",
      "Epoch 8/20\n",
      "34/34 [==============================] - ETA: 0s - loss: 0.5237 - categorical_accuracy: 0.8190\n",
      "Epoch 00008: saving model to model_init_2025-04-0109_13_51.626567/model-00008-0.52372-0.81900-2.36803-0.32000.keras\n",
      "34/34 [==============================] - 109s 3s/step - loss: 0.5237 - categorical_accuracy: 0.8190 - val_loss: 2.3680 - val_categorical_accuracy: 0.3200 - lr: 2.0000e-04\n",
      "Epoch 9/20\n",
      "34/34 [==============================] - ETA: 0s - loss: 0.4720 - categorical_accuracy: 0.8409\n",
      "Epoch 00009: saving model to model_init_2025-04-0109_13_51.626567/model-00009-0.47201-0.84087-2.38230-0.33000.keras\n",
      "\n",
      "Epoch 00009: ReduceLROnPlateau reducing learning rate to 4.0000001899898055e-05.\n",
      "34/34 [==============================] - 110s 3s/step - loss: 0.4720 - categorical_accuracy: 0.8409 - val_loss: 2.3823 - val_categorical_accuracy: 0.3300 - lr: 2.0000e-04\n",
      "Epoch 10/20\n",
      "34/34 [==============================] - ETA: 0s - loss: 0.4025 - categorical_accuracy: 0.8643\n",
      "Epoch 00010: saving model to model_init_2025-04-0109_13_51.626567/model-00010-0.40249-0.86425-2.17235-0.42000.keras\n",
      "34/34 [==============================] - 111s 3s/step - loss: 0.4025 - categorical_accuracy: 0.8643 - val_loss: 2.1723 - val_categorical_accuracy: 0.4200 - lr: 4.0000e-05\n",
      "Epoch 11/20\n",
      "34/34 [==============================] - ETA: 0s - loss: 0.3808 - categorical_accuracy: 0.8718\n",
      "Epoch 00011: saving model to model_init_2025-04-0109_13_51.626567/model-00011-0.38076-0.87179-2.30149-0.38000.keras\n",
      "34/34 [==============================] - 110s 3s/step - loss: 0.3808 - categorical_accuracy: 0.8718 - val_loss: 2.3015 - val_categorical_accuracy: 0.3800 - lr: 4.0000e-05\n",
      "Epoch 12/20\n",
      "34/34 [==============================] - ETA: 0s - loss: 0.3671 - categorical_accuracy: 0.8854\n",
      "Epoch 00012: saving model to model_init_2025-04-0109_13_51.626567/model-00012-0.36714-0.88537-2.17789-0.38000.keras\n",
      "34/34 [==============================] - 109s 3s/step - loss: 0.3671 - categorical_accuracy: 0.8854 - val_loss: 2.1779 - val_categorical_accuracy: 0.3800 - lr: 4.0000e-05\n",
      "Epoch 13/20\n",
      "34/34 [==============================] - ETA: 0s - loss: 0.3577 - categorical_accuracy: 0.8846\n",
      "Epoch 00013: saving model to model_init_2025-04-0109_13_51.626567/model-00013-0.35771-0.88462-1.63812-0.47000.keras\n",
      "34/34 [==============================] - 112s 3s/step - loss: 0.3577 - categorical_accuracy: 0.8846 - val_loss: 1.6381 - val_categorical_accuracy: 0.4700 - lr: 4.0000e-05\n",
      "Epoch 14/20\n",
      "34/34 [==============================] - ETA: 0s - loss: 0.3499 - categorical_accuracy: 0.8869\n",
      "Epoch 00014: saving model to model_init_2025-04-0109_13_51.626567/model-00014-0.34989-0.88688-1.43070-0.54000.keras\n",
      "34/34 [==============================] - 111s 3s/step - loss: 0.3499 - categorical_accuracy: 0.8869 - val_loss: 1.4307 - val_categorical_accuracy: 0.5400 - lr: 4.0000e-05\n",
      "Epoch 15/20\n",
      "34/34 [==============================] - ETA: 0s - loss: 0.3429 - categorical_accuracy: 0.8952\n",
      "Epoch 00015: saving model to model_init_2025-04-0109_13_51.626567/model-00015-0.34291-0.89517-1.31203-0.55000.keras\n",
      "34/34 [==============================] - 109s 3s/step - loss: 0.3429 - categorical_accuracy: 0.8952 - val_loss: 1.3120 - val_categorical_accuracy: 0.5500 - lr: 4.0000e-05\n",
      "Epoch 16/20\n",
      "34/34 [==============================] - ETA: 0s - loss: 0.3096 - categorical_accuracy: 0.9027\n",
      "Epoch 00016: saving model to model_init_2025-04-0109_13_51.626567/model-00016-0.30956-0.90271-1.10083-0.57000.keras\n",
      "34/34 [==============================] - 110s 3s/step - loss: 0.3096 - categorical_accuracy: 0.9027 - val_loss: 1.1008 - val_categorical_accuracy: 0.5700 - lr: 4.0000e-05\n",
      "Epoch 17/20\n",
      "34/34 [==============================] - ETA: 0s - loss: 0.3163 - categorical_accuracy: 0.9087\n",
      "Epoch 00017: saving model to model_init_2025-04-0109_13_51.626567/model-00017-0.31631-0.90875-0.84330-0.64000.keras\n",
      "34/34 [==============================] - 110s 3s/step - loss: 0.3163 - categorical_accuracy: 0.9087 - val_loss: 0.8433 - val_categorical_accuracy: 0.6400 - lr: 4.0000e-05\n",
      "Epoch 18/20\n",
      "34/34 [==============================] - ETA: 0s - loss: 0.3030 - categorical_accuracy: 0.9027\n",
      "Epoch 00018: saving model to model_init_2025-04-0109_13_51.626567/model-00018-0.30295-0.90271-0.85159-0.72000.keras\n",
      "34/34 [==============================] - 110s 3s/step - loss: 0.3030 - categorical_accuracy: 0.9027 - val_loss: 0.8516 - val_categorical_accuracy: 0.7200 - lr: 4.0000e-05\n",
      "Epoch 19/20\n",
      "34/34 [==============================] - ETA: 0s - loss: 0.3131 - categorical_accuracy: 0.8967\n",
      "Epoch 00019: saving model to model_init_2025-04-0109_13_51.626567/model-00019-0.31313-0.89668-0.57322-0.79000.keras\n",
      "34/34 [==============================] - 110s 3s/step - loss: 0.3131 - categorical_accuracy: 0.8967 - val_loss: 0.5732 - val_categorical_accuracy: 0.7900 - lr: 4.0000e-05\n",
      "Epoch 20/20\n",
      "34/34 [==============================] - ETA: 0s - loss: 0.2853 - categorical_accuracy: 0.9155\n",
      "Epoch 00020: saving model to model_init_2025-04-0109_13_51.626567/model-00020-0.28526-0.91554-0.67023-0.75000.keras\n",
      "34/34 [==============================] - 110s 3s/step - loss: 0.2853 - categorical_accuracy: 0.9155 - val_loss: 0.6702 - val_categorical_accuracy: 0.7500 - lr: 4.0000e-05\n"
     ]
    }
   ],
   "source": [
    "print(\"Total Parameters: \", rnn_cnn_model_5.count_params())\n",
    "model_5 = rnn_cnn_5.train_model(rnn_cnn_model_5, augment_data=True)"
   ]
  },
  {
   "cell_type": "code",
   "execution_count": 73,
   "metadata": {
    "id": "Qfa8i48uDgK4"
   },
   "outputs": [
    {
     "data": {
      "image/png": "[encoded data removed]",
      "text/plain": [
       "<Figure size 1080x288 with 2 Axes>"
      ]
     },
     "metadata": {
      "needs_background": "light"
     },
     "output_type": "display_data"
    }
   ],
   "source": [
    "plot(model_5)"
   ]
  },
  {
   "cell_type": "markdown",
   "metadata": {
    "id": "-uviS4deDgLB"
   },
   "source": [
    "***Observations:***\n",
    "\n",
    "After incorporating **rotation in the augmentation phase**, the **training accuracy slightly dropped to 91%**, while the **validation accuracy improved to 77%**, suggesting better generalization. Next, we will explore **transfer learning** to determine if it can further boost validation accuracy and enhance model performance."
   ]
  },
  {
   "cell_type": "markdown",
   "metadata": {
    "id": "vPE_siWbDgLC"
   },
   "source": [
    "### Model 6 - CNN with LSTM (with Transfer Learning)"
   ]
  },
  {
   "cell_type": "code",
   "execution_count": 9,
   "metadata": {
    "id": "q3uLKM75DgLC"
   },
   "outputs": [],
   "source": [
    "class RNNCNN_TL_LSTM(BuildModelWithRotation):\n",
    "\n",
    "    def model_definition(self, cells=64, dense_neurons=64, dropout=0.25):\n",
    "        mobilenet_transfer = mobilenet.MobileNet(weights='imagenet', include_top=False)\n",
    "\n",
    "        model = Sequential()\n",
    "        model.add(TimeDistributed(mobilenet_transfer,\n",
    "                input_shape=(self.number_of_sample_frames, self.image_height, self.image_width, self.channels)))\n",
    "\n",
    "\n",
    "        for layer in model.layers:\n",
    "            layer.trainable = False\n",
    "\n",
    "\n",
    "        model.add(TimeDistributed(BatchNormalization()))\n",
    "        model.add(TimeDistributed(MaxPooling2D((2, 2))))\n",
    "        model.add(TimeDistributed(Flatten()))\n",
    "\n",
    "        model.add(LSTM(cells))\n",
    "        model.add(Dropout(dropout))\n",
    "\n",
    "        model.add(Dense(dense_neurons, activation='relu'))\n",
    "        model.add(Dropout(dropout))\n",
    "\n",
    "        model.add(Dense(self.num_classes, activation='softmax'))\n",
    "\n",
    "\n",
    "        optimizer = Adam(learning_rate=0.001)\n",
    "        model.compile(optimizer=optimizer, loss='categorical_crossentropy', metrics=['categorical_accuracy'])\n",
    "        return model"
   ]
  },
  {
   "cell_type": "code",
   "execution_count": 10,
   "metadata": {
    "id": "LNkACFg8DgLC"
   },
   "outputs": [
    {
     "name": "stdout",
     "output_type": "stream",
     "text": [
      "WARNING:tensorflow:`input_shape` is undefined or non-square, or `rows` is not in [128, 160, 192, 224]. Weights for input shape (224, 224) will be loaded as the default.\n"
     ]
    },
    {
     "name": "stderr",
     "output_type": "stream",
     "text": [
      "2025-04-01 10:18:09.415192: I tensorflow/stream_executor/cuda/cuda_gpu_executor.cc:1052] successful NUMA node read from SysFS had negative value (-1), but there must be at least one NUMA node, so returning NUMA node zero\n",
      "2025-04-01 10:18:09.447686: I tensorflow/stream_executor/cuda/cuda_gpu_executor.cc:1052] successful NUMA node read from SysFS had negative value (-1), but there must be at least one NUMA node, so returning NUMA node zero\n",
      "2025-04-01 10:18:09.450809: I tensorflow/stream_executor/cuda/cuda_gpu_executor.cc:1052] successful NUMA node read from SysFS had negative value (-1), but there must be at least one NUMA node, so returning NUMA node zero\n",
      "2025-04-01 10:18:09.457078: I tensorflow/stream_executor/cuda/cuda_gpu_executor.cc:1052] successful NUMA node read from SysFS had negative value (-1), but there must be at least one NUMA node, so returning NUMA node zero\n",
      "2025-04-01 10:18:09.460199: I tensorflow/stream_executor/cuda/cuda_gpu_executor.cc:1052] successful NUMA node read from SysFS had negative value (-1), but there must be at least one NUMA node, so returning NUMA node zero\n",
      "2025-04-01 10:18:09.463128: I tensorflow/stream_executor/cuda/cuda_gpu_executor.cc:1052] successful NUMA node read from SysFS had negative value (-1), but there must be at least one NUMA node, so returning NUMA node zero\n",
      "2025-04-01 10:18:09.986523: I tensorflow/stream_executor/cuda/cuda_gpu_executor.cc:1052] successful NUMA node read from SysFS had negative value (-1), but there must be at least one NUMA node, so returning NUMA node zero\n",
      "2025-04-01 10:18:09.988168: I tensorflow/stream_executor/cuda/cuda_gpu_executor.cc:1052] successful NUMA node read from SysFS had negative value (-1), but there must be at least one NUMA node, so returning NUMA node zero\n",
      "2025-04-01 10:18:09.989471: I tensorflow/stream_executor/cuda/cuda_gpu_executor.cc:1052] successful NUMA node read from SysFS had negative value (-1), but there must be at least one NUMA node, so returning NUMA node zero\n",
      "2025-04-01 10:18:09.990712: W tensorflow/core/common_runtime/gpu/gpu_bfc_allocator.cc:39] Overriding allow_growth setting because the TF_FORCE_GPU_ALLOW_GROWTH environment variable is set. Original config value was 0.\n",
      "2025-04-01 10:18:09.990753: I tensorflow/core/common_runtime/gpu/gpu_device.cc:1525] Created device /job:localhost/replica:0/task:0/device:GPU:0 with 21985 MB memory:  -> device: 0, name: NVIDIA RTX A5000, pci bus id: 0000:41:00.0, compute capability: 8.6\n"
     ]
    },
    {
     "name": "stdout",
     "output_type": "stream",
     "text": [
      "Model: \"sequential\"\n",
      "_________________________________________________________________\n",
      " Layer (type)                Output Shape              Param #   \n",
      "=================================================================\n",
      " time_distributed (TimeDistr  (None, 16, 3, 3, 1024)   3228864   \n",
      " ibuted)                                                         \n",
      "                                                                 \n",
      " time_distributed_1 (TimeDis  (None, 16, 3, 3, 1024)   4096      \n",
      " tributed)                                                       \n",
      "                                                                 \n",
      " time_distributed_2 (TimeDis  (None, 16, 1, 1, 1024)   0         \n",
      " tributed)                                                       \n",
      "                                                                 \n",
      " time_distributed_3 (TimeDis  (None, 16, 1024)         0         \n",
      " tributed)                                                       \n",
      "                                                                 \n",
      " lstm (LSTM)                 (None, 128)               590336    \n",
      "                                                                 \n",
      " dropout (Dropout)           (None, 128)               0         \n",
      "                                                                 \n",
      " dense (Dense)               (None, 128)               16512     \n",
      "                                                                 \n",
      " dropout_1 (Dropout)         (None, 128)               0         \n",
      "                                                                 \n",
      " dense_1 (Dense)             (None, 5)                 645       \n",
      "                                                                 \n",
      "=================================================================\n",
      "Total params: 3,840,453\n",
      "Trainable params: 609,541\n",
      "Non-trainable params: 3,230,912\n",
      "_________________________________________________________________\n"
     ]
    }
   ],
   "source": [
    "rnn_cnn_6 = RNNCNN_TL_LSTM()\n",
    "rnn_cnn_6.initialize_path(BASE_PATH)\n",
    "rnn_cnn_6.initialize_image_props(image_height=120, image_width=120)\n",
    "rnn_cnn_6.initialize_hyperparameters(number_of_sample_frames=16, batch_size=5, num_epochs=20)\n",
    "rnn_cnn_model_6 = rnn_cnn_6.model_definition(cells=128, dense_neurons=128, dropout=0.25)\n",
    "rnn_cnn_model_6.summary()"
   ]
  },
  {
   "cell_type": "code",
   "execution_count": 11,
   "metadata": {
    "id": "77AVnk4TDgLC"
   },
   "outputs": [
    {
     "name": "stdout",
     "output_type": "stream",
     "text": [
      "Total Parameters:  3840453\n",
      "Epoch 1/20\n"
     ]
    },
    {
     "name": "stderr",
     "output_type": "stream",
     "text": [
      "2025-04-01 10:18:14.601705: I tensorflow/stream_executor/cuda/cuda_dnn.cc:377] Loaded cuDNN version 8302\n"
     ]
    },
    {
     "name": "stdout",
     "output_type": "stream",
     "text": [
      "  1/133 [..............................] - ETA: 10:34 - loss: 1.8243 - categorical_accuracy: 0.1000"
     ]
    },
    {
     "name": "stderr",
     "output_type": "stream",
     "text": [
      "2025-04-01 10:18:16.309952: I tensorflow/stream_executor/cuda/cuda_blas.cc:1792] TensorFloat-32 will be used for the matrix multiplication. This will only be logged once.\n"
     ]
    },
    {
     "name": "stdout",
     "output_type": "stream",
     "text": [
      "133/133 [==============================] - ETA: 0s - loss: 1.3707 - categorical_accuracy: 0.4133\n",
      "Epoch 00001: saving model to model_init_2025-04-0110_18_11.134462/model-00001-1.37075-0.41327-0.98046-0.62000.keras\n",
      "133/133 [==============================] - 101s 728ms/step - loss: 1.3707 - categorical_accuracy: 0.4133 - val_loss: 0.9805 - val_categorical_accuracy: 0.6200 - lr: 0.0010\n",
      "Epoch 2/20\n",
      "133/133 [==============================] - ETA: 0s - loss: 0.8537 - categorical_accuracy: 0.6757\n",
      "Epoch 00002: saving model to model_init_2025-04-0110_18_11.134462/model-00002-0.85372-0.67572-0.69413-0.73000.keras\n",
      "133/133 [==============================] - 101s 766ms/step - loss: 0.8537 - categorical_accuracy: 0.6757 - val_loss: 0.6941 - val_categorical_accuracy: 0.7300 - lr: 0.0010\n",
      "Epoch 3/20\n",
      "133/133 [==============================] - ETA: 0s - loss: 0.6856 - categorical_accuracy: 0.7360\n",
      "Epoch 00003: saving model to model_init_2025-04-0110_18_11.134462/model-00003-0.68562-0.73605-0.74521-0.76000.keras\n",
      "133/133 [==============================] - 96s 727ms/step - loss: 0.6856 - categorical_accuracy: 0.7360 - val_loss: 0.7452 - val_categorical_accuracy: 0.7600 - lr: 0.0010\n",
      "Epoch 4/20\n",
      "133/133 [==============================] - ETA: 0s - loss: 0.5469 - categorical_accuracy: 0.7911\n",
      "Epoch 00004: saving model to model_init_2025-04-0110_18_11.134462/model-00004-0.54688-0.79110-0.66279-0.73000.keras\n",
      "133/133 [==============================] - 98s 741ms/step - loss: 0.5469 - categorical_accuracy: 0.7911 - val_loss: 0.6628 - val_categorical_accuracy: 0.7300 - lr: 0.0010\n",
      "Epoch 5/20\n",
      "133/133 [==============================] - ETA: 0s - loss: 0.4006 - categorical_accuracy: 0.8567\n",
      "Epoch 00005: saving model to model_init_2025-04-0110_18_11.134462/model-00005-0.40058-0.85671-0.49904-0.78000.keras\n",
      "133/133 [==============================] - 94s 714ms/step - loss: 0.4006 - categorical_accuracy: 0.8567 - val_loss: 0.4990 - val_categorical_accuracy: 0.7800 - lr: 0.0010\n",
      "Epoch 6/20\n",
      "133/133 [==============================] - ETA: 0s - loss: 0.3494 - categorical_accuracy: 0.8718\n",
      "Epoch 00006: saving model to model_init_2025-04-0110_18_11.134462/model-00006-0.34937-0.87179-0.68601-0.73000.keras\n",
      "133/133 [==============================] - 95s 720ms/step - loss: 0.3494 - categorical_accuracy: 0.8718 - val_loss: 0.6860 - val_categorical_accuracy: 0.7300 - lr: 0.0010\n",
      "Epoch 7/20\n",
      "133/133 [==============================] - ETA: 0s - loss: 0.2692 - categorical_accuracy: 0.9050\n",
      "Epoch 00007: saving model to model_init_2025-04-0110_18_11.134462/model-00007-0.26921-0.90498-0.51225-0.83000.keras\n",
      "133/133 [==============================] - 98s 741ms/step - loss: 0.2692 - categorical_accuracy: 0.9050 - val_loss: 0.5122 - val_categorical_accuracy: 0.8300 - lr: 0.0010\n",
      "Epoch 8/20\n",
      "133/133 [==============================] - ETA: 0s - loss: 0.1744 - categorical_accuracy: 0.9404\n",
      "Epoch 00008: saving model to model_init_2025-04-0110_18_11.134462/model-00008-0.17440-0.94042-0.69096-0.75000.keras\n",
      "133/133 [==============================] - 94s 715ms/step - loss: 0.1744 - categorical_accuracy: 0.9404 - val_loss: 0.6910 - val_categorical_accuracy: 0.7500 - lr: 0.0010\n",
      "Epoch 9/20\n",
      "133/133 [==============================] - ETA: 0s - loss: 0.1558 - categorical_accuracy: 0.9442\n",
      "Epoch 00009: saving model to model_init_2025-04-0110_18_11.134462/model-00009-0.15580-0.94419-0.68934-0.75000.keras\n",
      "\n",
      "Epoch 00009: ReduceLROnPlateau reducing learning rate to 0.00020000000949949026.\n",
      "133/133 [==============================] - 95s 721ms/step - loss: 0.1558 - categorical_accuracy: 0.9442 - val_loss: 0.6893 - val_categorical_accuracy: 0.7500 - lr: 0.0010\n",
      "Epoch 10/20\n",
      "133/133 [==============================] - ETA: 0s - loss: 0.1257 - categorical_accuracy: 0.9548\n",
      "Epoch 00010: saving model to model_init_2025-04-0110_18_11.134462/model-00010-0.12575-0.95475-0.47274-0.82000.keras\n",
      "133/133 [==============================] - 98s 742ms/step - loss: 0.1257 - categorical_accuracy: 0.9548 - val_loss: 0.4727 - val_categorical_accuracy: 0.8200 - lr: 2.0000e-04\n",
      "Epoch 11/20\n",
      "133/133 [==============================] - ETA: 0s - loss: 0.0894 - categorical_accuracy: 0.9729\n",
      "Epoch 00011: saving model to model_init_2025-04-0110_18_11.134462/model-00011-0.08937-0.97285-0.47324-0.83000.keras\n",
      "133/133 [==============================] - 101s 764ms/step - loss: 0.0894 - categorical_accuracy: 0.9729 - val_loss: 0.4732 - val_categorical_accuracy: 0.8300 - lr: 2.0000e-04\n",
      "Epoch 12/20\n",
      "133/133 [==============================] - ETA: 0s - loss: 0.0804 - categorical_accuracy: 0.9744\n",
      "Epoch 00012: saving model to model_init_2025-04-0110_18_11.134462/model-00012-0.08042-0.97436-0.57103-0.83000.keras\n",
      "133/133 [==============================] - 98s 739ms/step - loss: 0.0804 - categorical_accuracy: 0.9744 - val_loss: 0.5710 - val_categorical_accuracy: 0.8300 - lr: 2.0000e-04\n",
      "Epoch 13/20\n",
      "133/133 [==============================] - ETA: 0s - loss: 0.0813 - categorical_accuracy: 0.9751\n",
      "Epoch 00013: saving model to model_init_2025-04-0110_18_11.134462/model-00013-0.08126-0.97511-0.64385-0.76000.keras\n",
      "133/133 [==============================] - 98s 740ms/step - loss: 0.0813 - categorical_accuracy: 0.9751 - val_loss: 0.6438 - val_categorical_accuracy: 0.7600 - lr: 2.0000e-04\n",
      "Epoch 14/20\n",
      "133/133 [==============================] - ETA: 0s - loss: 0.0937 - categorical_accuracy: 0.9683\n",
      "Epoch 00014: saving model to model_init_2025-04-0110_18_11.134462/model-00014-0.09371-0.96833-0.63939-0.75000.keras\n",
      "\n",
      "Epoch 00014: ReduceLROnPlateau reducing learning rate to 4.0000001899898055e-05.\n",
      "133/133 [==============================] - 97s 732ms/step - loss: 0.0937 - categorical_accuracy: 0.9683 - val_loss: 0.6394 - val_categorical_accuracy: 0.7500 - lr: 2.0000e-04\n",
      "Epoch 15/20\n",
      "133/133 [==============================] - ETA: 0s - loss: 0.0725 - categorical_accuracy: 0.9774\n",
      "Epoch 00015: saving model to model_init_2025-04-0110_18_11.134462/model-00015-0.07246-0.97738-0.44892-0.78000.keras\n",
      "133/133 [==============================] - 98s 739ms/step - loss: 0.0725 - categorical_accuracy: 0.9774 - val_loss: 0.4489 - val_categorical_accuracy: 0.7800 - lr: 4.0000e-05\n",
      "Epoch 16/20\n",
      "133/133 [==============================] - ETA: 0s - loss: 0.0809 - categorical_accuracy: 0.9766\n",
      "Epoch 00016: saving model to model_init_2025-04-0110_18_11.134462/model-00016-0.08086-0.97662-0.50725-0.83000.keras\n",
      "133/133 [==============================] - 98s 742ms/step - loss: 0.0809 - categorical_accuracy: 0.9766 - val_loss: 0.5072 - val_categorical_accuracy: 0.8300 - lr: 4.0000e-05\n",
      "Epoch 17/20\n",
      "133/133 [==============================] - ETA: 0s - loss: 0.0631 - categorical_accuracy: 0.9796\n",
      "Epoch 00017: saving model to model_init_2025-04-0110_18_11.134462/model-00017-0.06308-0.97964-0.75414-0.73000.keras\n",
      "133/133 [==============================] - 97s 736ms/step - loss: 0.0631 - categorical_accuracy: 0.9796 - val_loss: 0.7541 - val_categorical_accuracy: 0.7300 - lr: 4.0000e-05\n",
      "Epoch 18/20\n",
      "133/133 [==============================] - ETA: 0s - loss: 0.0518 - categorical_accuracy: 0.9819\n",
      "Epoch 00018: saving model to model_init_2025-04-0110_18_11.134462/model-00018-0.05183-0.98190-0.58531-0.76000.keras\n",
      "133/133 [==============================] - 97s 736ms/step - loss: 0.0518 - categorical_accuracy: 0.9819 - val_loss: 0.5853 - val_categorical_accuracy: 0.7600 - lr: 4.0000e-05\n",
      "Epoch 19/20\n",
      "133/133 [==============================] - ETA: 0s - loss: 0.0635 - categorical_accuracy: 0.9804\n",
      "Epoch 00019: saving model to model_init_2025-04-0110_18_11.134462/model-00019-0.06355-0.98039-0.64133-0.78000.keras\n",
      "\n",
      "Epoch 00019: ReduceLROnPlateau reducing learning rate to 8.000000525498762e-06.\n",
      "133/133 [==============================] - 97s 738ms/step - loss: 0.0635 - categorical_accuracy: 0.9804 - val_loss: 0.6413 - val_categorical_accuracy: 0.7800 - lr: 4.0000e-05\n",
      "Epoch 20/20\n",
      "133/133 [==============================] - ETA: 0s - loss: 0.0589 - categorical_accuracy: 0.9819\n",
      "Epoch 00020: saving model to model_init_2025-04-0110_18_11.134462/model-00020-0.05893-0.98190-0.62188-0.77000.keras\n",
      "133/133 [==============================] - 97s 735ms/step - loss: 0.0589 - categorical_accuracy: 0.9819 - val_loss: 0.6219 - val_categorical_accuracy: 0.7700 - lr: 8.0000e-06\n"
     ]
    }
   ],
   "source": [
    "print(\"Total Parameters: \", rnn_cnn_model_6.count_params())\n",
    "model_6 = rnn_cnn_6.train_model(rnn_cnn_model_6, augment_data=True)"
   ]
  },
  {
   "cell_type": "code",
   "execution_count": 14,
   "metadata": {
    "id": "JDbY230fDgLC"
   },
   "outputs": [
    {
     "data": {
      "image/png": "[encoded data removed]",
      "text/plain": [
       "<Figure size 1080x288 with 2 Axes>"
      ]
     },
     "metadata": {
      "needs_background": "light"
     },
     "output_type": "display_data"
    }
   ],
   "source": [
    "plot(model_6)"
   ]
  },
  {
   "cell_type": "markdown",
   "metadata": {
    "id": "x_0bDpYEDgLD"
   },
   "source": [
    "***Observations:***\n",
    "\n",
    "Implementing LSTM with transfer learning boosted the **training accuracy to 98%**, yet the **validation accuracy remained at 77%**, indicating potential overfitting. This may stem from the **MobileNet weights not being trained**, limiting the model’s ability to generalize. Next, we will explore whether **training MobileNet’s weights alongside LSTM** can address this issue and improve overall performance."
   ]
  },
  {
   "cell_type": "markdown",
   "metadata": {
    "id": "5hPzALlVDgLD"
   },
   "source": [
    "### Model 7 - CNN with LSTM (with trainable weights of Transfer Learning)"
   ]
  },
  {
   "cell_type": "code",
   "execution_count": 15,
   "metadata": {
    "id": "S6-vKQ5EDgLD"
   },
   "outputs": [],
   "source": [
    "class RNNCNN_TL_LSTM_2(BuildModelWithRotation):\n",
    "\n",
    "    def model_definition(self, cells=64, dense_neurons=64, dropout=0.25):\n",
    "        mobilenet_transfer = mobilenet.MobileNet(weights='imagenet', include_top=False)\n",
    "\n",
    "        model = Sequential()\n",
    "        model.add(TimeDistributed(mobilenet_transfer,\n",
    "                input_shape=(self.number_of_sample_frames, self.image_height, self.image_width, self.channels)))\n",
    "\n",
    "        # Training weights\n",
    "        for layer in model.layers:\n",
    "            layer.trainable = True\n",
    "\n",
    "\n",
    "        model.add(TimeDistributed(BatchNormalization()))\n",
    "        model.add(TimeDistributed(MaxPooling2D((2, 2))))\n",
    "        model.add(TimeDistributed(Flatten()))\n",
    "\n",
    "        model.add(LSTM(cells))\n",
    "        model.add(Dropout(dropout))\n",
    "\n",
    "        model.add(Dense(dense_neurons, activation='relu'))\n",
    "        model.add(Dropout(dropout))\n",
    "\n",
    "        model.add(Dense(self.num_classes, activation='softmax'))\n",
    "\n",
    "\n",
    "        optimizer = Adam(learning_rate=0.001)\n",
    "        model.compile(optimizer=optimizer, loss='categorical_crossentropy', metrics=['categorical_accuracy'])\n",
    "        return model"
   ]
  },
  {
   "cell_type": "code",
   "execution_count": 16,
   "metadata": {
    "id": "dfQYYl2iDgLD"
   },
   "outputs": [
    {
     "name": "stdout",
     "output_type": "stream",
     "text": [
      "WARNING:tensorflow:`input_shape` is undefined or non-square, or `rows` is not in [128, 160, 192, 224]. Weights for input shape (224, 224) will be loaded as the default.\n",
      "Model: \"sequential_1\"\n",
      "_________________________________________________________________\n",
      " Layer (type)                Output Shape              Param #   \n",
      "=================================================================\n",
      " time_distributed_4 (TimeDis  (None, 16, 3, 3, 1024)   3228864   \n",
      " tributed)                                                       \n",
      "                                                                 \n",
      " time_distributed_5 (TimeDis  (None, 16, 3, 3, 1024)   4096      \n",
      " tributed)                                                       \n",
      "                                                                 \n",
      " time_distributed_6 (TimeDis  (None, 16, 1, 1, 1024)   0         \n",
      " tributed)                                                       \n",
      "                                                                 \n",
      " time_distributed_7 (TimeDis  (None, 16, 1024)         0         \n",
      " tributed)                                                       \n",
      "                                                                 \n",
      " lstm_1 (LSTM)               (None, 128)               590336    \n",
      "                                                                 \n",
      " dropout_2 (Dropout)         (None, 128)               0         \n",
      "                                                                 \n",
      " dense_2 (Dense)             (None, 128)               16512     \n",
      "                                                                 \n",
      " dropout_3 (Dropout)         (None, 128)               0         \n",
      "                                                                 \n",
      " dense_3 (Dense)             (None, 5)                 645       \n",
      "                                                                 \n",
      "=================================================================\n",
      "Total params: 3,840,453\n",
      "Trainable params: 3,816,517\n",
      "Non-trainable params: 23,936\n",
      "_________________________________________________________________\n"
     ]
    }
   ],
   "source": [
    "rnn_cnn_7 = RNNCNN_TL_LSTM_2()\n",
    "rnn_cnn_7.initialize_path(BASE_PATH)\n",
    "rnn_cnn_7.initialize_image_props(image_height=120, image_width=120)\n",
    "rnn_cnn_7.initialize_hyperparameters(number_of_sample_frames=16, batch_size=5, num_epochs=20)\n",
    "rnn_cnn_model_7 = rnn_cnn_7.model_definition(cells=128, dense_neurons=128, dropout=0.25)\n",
    "rnn_cnn_model_7.summary()"
   ]
  },
  {
   "cell_type": "code",
   "execution_count": 17,
   "metadata": {
    "id": "JEQjm946DgLD"
   },
   "outputs": [
    {
     "name": "stdout",
     "output_type": "stream",
     "text": [
      "Total Parameters:  3840453\n",
      "Epoch 1/20\n",
      "133/133 [==============================] - ETA: 0s - loss: 1.3320 - categorical_accuracy: 0.4397\n",
      "Epoch 00001: saving model to model_init_2025-04-0110_51_41.257324/model-00001-1.33205-0.43967-0.81566-0.66000.keras\n",
      "133/133 [==============================] - 99s 726ms/step - loss: 1.3320 - categorical_accuracy: 0.4397 - val_loss: 0.8157 - val_categorical_accuracy: 0.6600 - lr: 0.0010\n",
      "Epoch 2/20\n",
      "133/133 [==============================] - ETA: 0s - loss: 0.9384 - categorical_accuracy: 0.6312\n",
      "Epoch 00002: saving model to model_init_2025-04-0110_51_41.257324/model-00002-0.93843-0.63122-1.10568-0.57000.keras\n",
      "133/133 [==============================] - 95s 716ms/step - loss: 0.9384 - categorical_accuracy: 0.6312 - val_loss: 1.1057 - val_categorical_accuracy: 0.5700 - lr: 0.0010\n",
      "Epoch 3/20\n",
      "133/133 [==============================] - ETA: 0s - loss: 0.6930 - categorical_accuracy: 0.7579\n",
      "Epoch 00003: saving model to model_init_2025-04-0110_51_41.257324/model-00003-0.69301-0.75792-0.57129-0.76000.keras\n",
      "133/133 [==============================] - 94s 711ms/step - loss: 0.6930 - categorical_accuracy: 0.7579 - val_loss: 0.5713 - val_categorical_accuracy: 0.7600 - lr: 0.0010\n",
      "Epoch 4/20\n",
      "133/133 [==============================] - ETA: 0s - loss: 0.5079 - categorical_accuracy: 0.8198\n",
      "Epoch 00004: saving model to model_init_2025-04-0110_51_41.257324/model-00004-0.50794-0.81976-0.33004-0.88000.keras\n",
      "133/133 [==============================] - 94s 714ms/step - loss: 0.5079 - categorical_accuracy: 0.8198 - val_loss: 0.3300 - val_categorical_accuracy: 0.8800 - lr: 0.0010\n",
      "Epoch 5/20\n",
      "133/133 [==============================] - ETA: 0s - loss: 0.4518 - categorical_accuracy: 0.8281\n",
      "Epoch 00005: saving model to model_init_2025-04-0110_51_41.257324/model-00005-0.45183-0.82805-0.28241-0.92000.keras\n",
      "133/133 [==============================] - 94s 710ms/step - loss: 0.4518 - categorical_accuracy: 0.8281 - val_loss: 0.2824 - val_categorical_accuracy: 0.9200 - lr: 0.0010\n",
      "Epoch 6/20\n",
      "133/133 [==============================] - ETA: 0s - loss: 0.4418 - categorical_accuracy: 0.8424\n",
      "Epoch 00006: saving model to model_init_2025-04-0110_51_41.257324/model-00006-0.44183-0.84238-0.24366-0.92000.keras\n",
      "133/133 [==============================] - 94s 708ms/step - loss: 0.4418 - categorical_accuracy: 0.8424 - val_loss: 0.2437 - val_categorical_accuracy: 0.9200 - lr: 0.0010\n",
      "Epoch 7/20\n",
      "133/133 [==============================] - ETA: 0s - loss: 0.4117 - categorical_accuracy: 0.8507\n",
      "Epoch 00007: saving model to model_init_2025-04-0110_51_41.257324/model-00007-0.41168-0.85068-0.59170-0.77000.keras\n",
      "133/133 [==============================] - 98s 739ms/step - loss: 0.4117 - categorical_accuracy: 0.8507 - val_loss: 0.5917 - val_categorical_accuracy: 0.7700 - lr: 0.0010\n",
      "Epoch 8/20\n",
      "133/133 [==============================] - ETA: 0s - loss: 0.4776 - categorical_accuracy: 0.8409\n",
      "Epoch 00008: saving model to model_init_2025-04-0110_51_41.257324/model-00008-0.47756-0.84087-0.62758-0.78000.keras\n",
      "133/133 [==============================] - 96s 729ms/step - loss: 0.4776 - categorical_accuracy: 0.8409 - val_loss: 0.6276 - val_categorical_accuracy: 0.7800 - lr: 0.0010\n",
      "Epoch 9/20\n",
      "133/133 [==============================] - ETA: 0s - loss: 0.3201 - categorical_accuracy: 0.8808\n",
      "Epoch 00009: saving model to model_init_2025-04-0110_51_41.257324/model-00009-0.32012-0.88084-0.52056-0.83000.keras\n",
      "133/133 [==============================] - 97s 734ms/step - loss: 0.3201 - categorical_accuracy: 0.8808 - val_loss: 0.5206 - val_categorical_accuracy: 0.8300 - lr: 0.0010\n",
      "Epoch 10/20\n",
      "133/133 [==============================] - ETA: 0s - loss: 0.2919 - categorical_accuracy: 0.9125\n",
      "Epoch 00010: saving model to model_init_2025-04-0110_51_41.257324/model-00010-0.29195-0.91252-0.58562-0.75000.keras\n",
      "\n",
      "Epoch 00010: ReduceLROnPlateau reducing learning rate to 0.00020000000949949026.\n",
      "133/133 [==============================] - 97s 736ms/step - loss: 0.2919 - categorical_accuracy: 0.9125 - val_loss: 0.5856 - val_categorical_accuracy: 0.7500 - lr: 0.0010\n",
      "Epoch 11/20\n",
      "133/133 [==============================] - ETA: 0s - loss: 0.2583 - categorical_accuracy: 0.9201\n",
      "Epoch 00011: saving model to model_init_2025-04-0110_51_41.257324/model-00011-0.25825-0.92006-0.23320-0.94000.keras\n",
      "133/133 [==============================] - 95s 722ms/step - loss: 0.2583 - categorical_accuracy: 0.9201 - val_loss: 0.2332 - val_categorical_accuracy: 0.9400 - lr: 2.0000e-04\n",
      "Epoch 12/20\n",
      "133/133 [==============================] - ETA: 0s - loss: 0.1917 - categorical_accuracy: 0.9382\n",
      "Epoch 00012: saving model to model_init_2025-04-0110_51_41.257324/model-00012-0.19172-0.93816-0.13066-0.95000.keras\n",
      "133/133 [==============================] - 97s 734ms/step - loss: 0.1917 - categorical_accuracy: 0.9382 - val_loss: 0.1307 - val_categorical_accuracy: 0.9500 - lr: 2.0000e-04\n",
      "Epoch 13/20\n",
      "133/133 [==============================] - ETA: 0s - loss: 0.1543 - categorical_accuracy: 0.9465\n",
      "Epoch 00013: saving model to model_init_2025-04-0110_51_41.257324/model-00013-0.15432-0.94646-0.21013-0.93000.keras\n",
      "133/133 [==============================] - 96s 728ms/step - loss: 0.1543 - categorical_accuracy: 0.9465 - val_loss: 0.2101 - val_categorical_accuracy: 0.9300 - lr: 2.0000e-04\n",
      "Epoch 14/20\n",
      "133/133 [==============================] - ETA: 0s - loss: 0.1131 - categorical_accuracy: 0.9600\n",
      "Epoch 00015: saving model to model_init_2025-04-0110_51_41.257324/model-00015-0.11313-0.96003-0.25814-0.93000.keras\n",
      "133/133 [==============================] - 95s 717ms/step - loss: 0.1131 - categorical_accuracy: 0.9600 - val_loss: 0.2581 - val_categorical_accuracy: 0.9300 - lr: 2.0000e-04\n",
      "Epoch 16/20\n",
      "133/133 [==============================] - ETA: 0s - loss: 0.0894 - categorical_accuracy: 0.9706\n",
      "Epoch 00016: saving model to model_init_2025-04-0110_51_41.257324/model-00016-0.08937-0.97059-0.19261-0.93000.keras\n",
      "\n",
      "Epoch 00016: ReduceLROnPlateau reducing learning rate to 4.0000001899898055e-05.\n",
      "133/133 [==============================] - 93s 705ms/step - loss: 0.0894 - categorical_accuracy: 0.9706 - val_loss: 0.1926 - val_categorical_accuracy: 0.9300 - lr: 2.0000e-04\n",
      "Epoch 17/20\n",
      "133/133 [==============================] - ETA: 0s - loss: 0.0736 - categorical_accuracy: 0.9789\n",
      "Epoch 00017: saving model to model_init_2025-04-0110_51_41.257324/model-00017-0.07356-0.97888-0.18430-0.96000.keras\n",
      "133/133 [==============================] - 93s 706ms/step - loss: 0.0736 - categorical_accuracy: 0.9789 - val_loss: 0.1843 - val_categorical_accuracy: 0.9600 - lr: 4.0000e-05\n",
      "Epoch 18/20\n",
      "133/133 [==============================] - ETA: 0s - loss: 0.0604 - categorical_accuracy: 0.9789\n",
      "Epoch 00018: saving model to model_init_2025-04-0110_51_41.257324/model-00018-0.06042-0.97888-0.19909-0.92000.keras\n",
      "133/133 [==============================] - 96s 730ms/step - loss: 0.0604 - categorical_accuracy: 0.9789 - val_loss: 0.1991 - val_categorical_accuracy: 0.9200 - lr: 4.0000e-05\n",
      "Epoch 19/20\n",
      "133/133 [==============================] - ETA: 0s - loss: 0.0654 - categorical_accuracy: 0.9811\n",
      "Epoch 00019: saving model to model_init_2025-04-0110_51_41.257324/model-00019-0.06544-0.98115-0.14476-0.95000.keras\n",
      "133/133 [==============================] - 104s 785ms/step - loss: 0.0654 - categorical_accuracy: 0.9811 - val_loss: 0.1448 - val_categorical_accuracy: 0.9500 - lr: 4.0000e-05\n",
      "Epoch 20/20\n",
      "133/133 [==============================] - ETA: 0s - loss: 0.0656 - categorical_accuracy: 0.9819\n",
      "Epoch 00020: saving model to model_init_2025-04-0110_51_41.257324/model-00020-0.06557-0.98190-0.19009-0.95000.keras\n",
      "\n",
      "Epoch 00020: ReduceLROnPlateau reducing learning rate to 8.000000525498762e-06.\n",
      "133/133 [==============================] - 102s 769ms/step - loss: 0.0656 - categorical_accuracy: 0.9819 - val_loss: 0.1901 - val_categorical_accuracy: 0.9500 - lr: 4.0000e-05\n"
     ]
    }
   ],
   "source": [
    "print(\"Total Parameters: \", rnn_cnn_model_7.count_params())\n",
    "model_7 = rnn_cnn_7.train_model(rnn_cnn_model_7, augment_data=True)"
   ]
  },
  {
   "cell_type": "code",
   "execution_count": 18,
   "metadata": {
    "id": "C9adbRZqDgLE"
   },
   "outputs": [
    {
     "data": {
      "image/png": "[encoded data removed]",
      "text/plain": [
       "<Figure size 1080x288 with 2 Axes>"
      ]
     },
     "metadata": {
      "needs_background": "light"
     },
     "output_type": "display_data"
    }
   ],
   "source": [
    "plot(model_7)"
   ]
  },
  {
   "cell_type": "markdown",
   "metadata": {
    "id": "AIFybjQYDgLE"
   },
   "source": [
    "***Observations:***\n",
    "\n",
    "After training the MobileNet weights, the **training accuracy surged to 98%**, with **validation accuracy reaching 95%**. However, this gain came at the expense of significantly longer training time due to a **fourfold increase in parameters** within the LSTM architecture. Moving forward, we will investigate whether **reducing the parameter count with GRU** while still leveraging MobileNet’s trainable weights can further enhance accuracy and efficiency."
   ]
  },
  {
   "cell_type": "markdown",
   "metadata": {
    "id": "TFCUgRLTDgLE"
   },
   "source": [
    "### Model 8 - CNN with GRU  (with trainable weights of Transfer Learning)"
   ]
  },
  {
   "cell_type": "code",
   "execution_count": null,
   "metadata": {
    "id": "i26nzvQUDgLE"
   },
   "outputs": [],
   "source": [
    "class RNNCNN_TL_GRU(BuildModelWithRotation):\n",
    "\n",
    "    def model_definition(self, cells=64, dense_neurons=64, dropout=0.25):\n",
    "        mobilenet_transfer = mobilenet.MobileNet(weights='imagenet', include_top=False)\n",
    "\n",
    "        model = Sequential()\n",
    "        model.add(TimeDistributed(mobilenet_transfer,\n",
    "                input_shape=(self.number_of_sample_frames, self.image_height, self.image_width, self.channels)))\n",
    "\n",
    "        model.add(TimeDistributed(BatchNormalization()))\n",
    "        model.add(TimeDistributed(MaxPooling2D((2, 2))))\n",
    "        model.add(TimeDistributed(Flatten()))\n",
    "\n",
    "        model.add(GRU(cells))\n",
    "        model.add(Dropout(dropout))\n",
    "\n",
    "        model.add(Dense(dense_neurons,activation='relu'))\n",
    "        model.add(Dropout(dropout))\n",
    "\n",
    "        model.add(Dense(self.num_classes, activation='softmax'))\n",
    "\n",
    "        optimizer = Adam(learning_rate=0.001)\n",
    "        model.compile(optimizer=optimizer, loss='categorical_crossentropy', metrics=['categorical_accuracy'])\n",
    "        return model"
   ]
  },
  {
   "cell_type": "code",
   "execution_count": null,
   "metadata": {
    "id": "ywxaZfeFDgLE"
   },
   "outputs": [
    {
     "name": "stdout",
     "output_type": "stream",
     "text": [
      "WARNING:tensorflow:`input_shape` is undefined or non-square, or `rows` is not in [128, 160, 192, 224]. Weights for input shape (224, 224) will be loaded as the default.\n",
      "Model: \"sequential_2\"\n",
      "_________________________________________________________________\n",
      " Layer (type)                Output Shape              Param #   \n",
      "=================================================================\n",
      " time_distributed_8 (TimeDis  (None, 16, 3, 3, 1024)   3228864   \n",
      " tributed)                                                       \n",
      "                                                                 \n",
      " time_distributed_9 (TimeDis  (None, 16, 3, 3, 1024)   4096      \n",
      " tributed)                                                       \n",
      "                                                                 \n",
      " time_distributed_10 (TimeDi  (None, 16, 1, 1, 1024)   0         \n",
      " stributed)                                                      \n",
      "                                                                 \n",
      " time_distributed_11 (TimeDi  (None, 16, 1024)         0         \n",
      " stributed)                                                      \n",
      "                                                                 \n",
      " gru (GRU)                   (None, 128)               443136    \n",
      "                                                                 \n",
      " dropout_4 (Dropout)         (None, 128)               0         \n",
      "                                                                 \n",
      " dense_4 (Dense)             (None, 128)               16512     \n",
      "                                                                 \n",
      " dropout_5 (Dropout)         (None, 128)               0         \n",
      "                                                                 \n",
      " dense_5 (Dense)             (None, 5)                 645       \n",
      "                                                                 \n",
      "=================================================================\n",
      "Total params: 3,693,253\n",
      "Trainable params: 3,669,317\n",
      "Non-trainable params: 23,936\n",
      "_________________________________________________________________\n"
     ]
    }
   ],
   "source": [
    "rnn_cnn_8 = RNNCNN_TL_GRU()\n",
    "rnn_cnn_8.initialize_path(BASE_PATH)\n",
    "rnn_cnn_8.initialize_image_props(image_height=120, image_width=120)\n",
    "rnn_cnn_8.initialize_hyperparameters(number_of_sample_frames=16, batch_size=5, num_epochs=20)\n",
    "rnn_cnn_model_8 = rnn_cnn_8.model_definition(cells=128, dense_neurons=128, dropout=0.25)\n",
    "rnn_cnn_model_8.summary()"
   ]
  },
  {
   "cell_type": "code",
   "execution_count": null,
   "metadata": {
    "id": "T5VouB5NDgLE"
   },
   "outputs": [
    {
     "name": "stdout",
     "output_type": "stream",
     "text": [
      "Total Parameters:  3693253\n",
      "Epoch 1/20\n",
      "133/133 [==============================] - ETA: 0s - loss: 1.3138 - categorical_accuracy: 0.4683\n",
      "Epoch 00001: saving model to model_init_2025-04-0111_23_46.397063/model-00001-1.31385-0.46833-0.78893-0.66000.keras\n",
      "133/133 [==============================] - 100s 738ms/step - loss: 1.3138 - categorical_accuracy: 0.4683 - val_loss: 0.7889 - val_categorical_accuracy: 0.6600 - lr: 0.0010\n",
      "Epoch 2/20\n",
      "133/133 [==============================] - ETA: 0s - loss: 0.8272 - categorical_accuracy: 0.6787\n",
      "Epoch 00002: saving model to model_init_2025-04-0111_23_46.397063/model-00002-0.82725-0.67873-0.41369-0.88000.keras\n",
      "133/133 [==============================] - 94s 711ms/step - loss: 0.8272 - categorical_accuracy: 0.6787 - val_loss: 0.4137 - val_categorical_accuracy: 0.8800 - lr: 0.0010\n",
      "Epoch 3/20\n",
      "133/133 [==============================] - ETA: 0s - loss: 0.5125 - categorical_accuracy: 0.8084\n",
      "Epoch 00003: saving model to model_init_2025-04-0111_23_46.397063/model-00003-0.51250-0.80845-0.45141-0.85000.keras\n",
      "133/133 [==============================] - 94s 710ms/step - loss: 0.5125 - categorical_accuracy: 0.8084 - val_loss: 0.4514 - val_categorical_accuracy: 0.8500 - lr: 0.0010\n",
      "Epoch 4/20\n",
      "133/133 [==============================] - ETA: 0s - loss: 0.4123 - categorical_accuracy: 0.8484\n",
      "Epoch 00004: saving model to model_init_2025-04-0111_23_46.397063/model-00004-0.41228-0.84842-0.54623-0.77000.keras\n",
      "133/133 [==============================] - 109s 825ms/step - loss: 0.4123 - categorical_accuracy: 0.8484 - val_loss: 0.5462 - val_categorical_accuracy: 0.7700 - lr: 0.0010\n",
      "Epoch 5/20\n",
      "133/133 [==============================] - ETA: 0s - loss: 0.3386 - categorical_accuracy: 0.8839\n",
      "Epoch 00005: saving model to model_init_2025-04-0111_23_46.397063/model-00005-0.33864-0.88386-0.35591-0.83000.keras\n",
      "133/133 [==============================] - 94s 708ms/step - loss: 0.3386 - categorical_accuracy: 0.8839 - val_loss: 0.3559 - val_categorical_accuracy: 0.8300 - lr: 0.0010\n",
      "Epoch 6/20\n",
      "133/133 [==============================] - ETA: 0s - loss: 0.3507 - categorical_accuracy: 0.8884\n",
      "Epoch 00006: saving model to model_init_2025-04-0111_23_46.397063/model-00006-0.35066-0.88839-0.45794-0.83000.keras\n",
      "133/133 [==============================] - 94s 709ms/step - loss: 0.3507 - categorical_accuracy: 0.8884 - val_loss: 0.4579 - val_categorical_accuracy: 0.8300 - lr: 0.0010\n",
      "Epoch 7/20\n",
      "133/133 [==============================] - ETA: 0s - loss: 0.2453 - categorical_accuracy: 0.9133\n",
      "Epoch 00007: saving model to model_init_2025-04-0111_23_46.397063/model-00007-0.24534-0.91327-0.24673-0.90000.keras\n",
      "133/133 [==============================] - 97s 734ms/step - loss: 0.2453 - categorical_accuracy: 0.9133 - val_loss: 0.2467 - val_categorical_accuracy: 0.9000 - lr: 0.0010\n",
      "Epoch 8/20\n",
      "133/133 [==============================] - ETA: 0s - loss: 0.1925 - categorical_accuracy: 0.9404\n",
      "Epoch 00008: saving model to model_init_2025-04-0111_23_46.397063/model-00008-0.19250-0.94042-0.27478-0.89000.keras\n",
      "133/133 [==============================] - 95s 720ms/step - loss: 0.1925 - categorical_accuracy: 0.9404 - val_loss: 0.2748 - val_categorical_accuracy: 0.8900 - lr: 0.0010\n",
      "Epoch 9/20\n",
      "133/133 [==============================] - ETA: 0s - loss: 0.1693 - categorical_accuracy: 0.9480\n",
      "Epoch 00009: saving model to model_init_2025-04-0111_23_46.397063/model-00009-0.16934-0.94796-0.32009-0.90000.keras\n",
      "133/133 [==============================] - 97s 731ms/step - loss: 0.1693 - categorical_accuracy: 0.9480 - val_loss: 0.3201 - val_categorical_accuracy: 0.9000 - lr: 0.0010\n",
      "Epoch 10/20\n",
      "133/133 [==============================] - ETA: 0s - loss: 0.2089 - categorical_accuracy: 0.9389\n",
      "Epoch 00010: saving model to model_init_2025-04-0111_23_46.397063/model-00010-0.20889-0.93891-0.22690-0.93000.keras\n",
      "133/133 [==============================] - 96s 730ms/step - loss: 0.2089 - categorical_accuracy: 0.9389 - val_loss: 0.2269 - val_categorical_accuracy: 0.9300 - lr: 0.0010\n",
      "Epoch 11/20\n",
      "133/133 [==============================] - ETA: 0s - loss: 0.2099 - categorical_accuracy: 0.9261\n",
      "Epoch 00011: saving model to model_init_2025-04-0111_23_46.397063/model-00011-0.20992-0.92609-0.66345-0.78000.keras\n",
      "133/133 [==============================] - 96s 724ms/step - loss: 0.2099 - categorical_accuracy: 0.9261 - val_loss: 0.6634 - val_categorical_accuracy: 0.7800 - lr: 0.0010\n",
      "Epoch 12/20\n",
      "133/133 [==============================] - ETA: 0s - loss: 0.2024 - categorical_accuracy: 0.9238\n",
      "Epoch 00012: saving model to model_init_2025-04-0111_23_46.397063/model-00012-0.20239-0.92383-0.45030-0.86000.keras\n",
      "133/133 [==============================] - 96s 729ms/step - loss: 0.2024 - categorical_accuracy: 0.9238 - val_loss: 0.4503 - val_categorical_accuracy: 0.8600 - lr: 0.0010\n",
      "Epoch 13/20\n",
      "133/133 [==============================] - ETA: 0s - loss: 0.1731 - categorical_accuracy: 0.9442\n",
      "Epoch 00013: saving model to model_init_2025-04-0111_23_46.397063/model-00013-0.17306-0.94419-0.29556-0.89000.keras\n",
      "133/133 [==============================] - 93s 704ms/step - loss: 0.1731 - categorical_accuracy: 0.9442 - val_loss: 0.2956 - val_categorical_accuracy: 0.8900 - lr: 0.0010\n",
      "Epoch 14/20\n",
      "133/133 [==============================] - ETA: 0s - loss: 0.1519 - categorical_accuracy: 0.9502\n",
      "Epoch 00014: saving model to model_init_2025-04-0111_23_46.397063/model-00014-0.15186-0.95023-0.62706-0.83000.keras\n",
      "\n",
      "Epoch 00014: ReduceLROnPlateau reducing learning rate to 0.00020000000949949026.\n",
      "133/133 [==============================] - 94s 712ms/step - loss: 0.1519 - categorical_accuracy: 0.9502 - val_loss: 0.6271 - val_categorical_accuracy: 0.8300 - lr: 0.0010\n",
      "Epoch 15/20\n",
      "133/133 [==============================] - ETA: 0s - loss: 0.0831 - categorical_accuracy: 0.9766\n",
      "Epoch 00015: saving model to model_init_2025-04-0111_23_46.397063/model-00015-0.08308-0.97662-0.11405-0.98000.keras\n",
      "133/133 [==============================] - 93s 702ms/step - loss: 0.0831 - categorical_accuracy: 0.9766 - val_loss: 0.1140 - val_categorical_accuracy: 0.9800 - lr: 2.0000e-04\n",
      "Epoch 16/20\n",
      "133/133 [==============================] - ETA: 0s - loss: 0.0394 - categorical_accuracy: 0.9894\n",
      "Epoch 00016: saving model to model_init_2025-04-0111_23_46.397063/model-00016-0.03941-0.98944-0.05912-0.99000.keras\n",
      "133/133 [==============================] - 99s 748ms/step - loss: 0.0394 - categorical_accuracy: 0.9894 - val_loss: 0.0591 - val_categorical_accuracy: 0.9900 - lr: 2.0000e-04\n",
      "Epoch 17/20\n",
      "133/133 [==============================] - ETA: 0s - loss: 0.0311 - categorical_accuracy: 0.9917\n",
      "Epoch 00017: saving model to model_init_2025-04-0111_23_46.397063/model-00017-0.03110-0.99170-0.14902-0.96000.keras\n",
      "133/133 [==============================] - 97s 732ms/step - loss: 0.0311 - categorical_accuracy: 0.9917 - val_loss: 0.1490 - val_categorical_accuracy: 0.9600 - lr: 2.0000e-04\n",
      "Epoch 18/20\n",
      "133/133 [==============================] - ETA: 0s - loss: 0.0384 - categorical_accuracy: 0.9872\n",
      "Epoch 00018: saving model to model_init_2025-04-0111_23_46.397063/model-00018-0.03845-0.98718-0.06405-0.99000.keras\n",
      "133/133 [==============================] - 96s 725ms/step - loss: 0.0384 - categorical_accuracy: 0.9872 - val_loss: 0.0640 - val_categorical_accuracy: 0.9900 - lr: 2.0000e-04\n",
      "Epoch 19/20\n",
      "133/133 [==============================] - ETA: 0s - loss: 0.0184 - categorical_accuracy: 0.9947\n",
      "Epoch 00019: saving model to model_init_2025-04-0111_23_46.397063/model-00019-0.01844-0.99472-0.10089-0.99000.keras\n",
      "133/133 [==============================] - 97s 732ms/step - loss: 0.0184 - categorical_accuracy: 0.9947 - val_loss: 0.1009 - val_categorical_accuracy: 0.9900 - lr: 2.0000e-04\n",
      "Epoch 20/20\n",
      "133/133 [==============================] - ETA: 0s - loss: 0.0239 - categorical_accuracy: 0.9932\n",
      "Epoch 00020: saving model to model_init_2025-04-0111_23_46.397063/model-00020-0.02392-0.99321-0.10166-0.98000.keras\n",
      "\n",
      "Epoch 00020: ReduceLROnPlateau reducing learning rate to 4.0000001899898055e-05.\n",
      "133/133 [==============================] - 96s 724ms/step - loss: 0.0239 - categorical_accuracy: 0.9932 - val_loss: 0.1017 - val_categorical_accuracy: 0.9800 - lr: 2.0000e-04\n"
     ]
    }
   ],
   "source": [
    "print(\"Total Parameters: \", rnn_cnn_model_8.count_params())\n",
    "model_8 = rnn_cnn_8.train_model(rnn_cnn_model_8, augment_data=True)"
   ]
  },
  {
   "cell_type": "code",
   "execution_count": null,
   "metadata": {
    "id": "meEFIV4hDgLF"
   },
   "outputs": [
    {
     "data": {
      "image/png": "[encoded data removed]",
      "text/plain": [
       "<Figure size 1080x288 with 2 Axes>"
      ]
     },
     "metadata": {
      "needs_background": "light"
     },
     "output_type": "display_data"
    }
   ],
   "source": [
    "plot(model_8)"
   ]
  },
  {
   "cell_type": "markdown",
   "metadata": {
    "id": "HRi7MqNwDgLF"
   },
   "source": [
    "***Observations:***\n",
    "\n",
    "By leveraging GRU and transfer learning with pre-trained weights, our model achieves an impressive 99% training accuracy and 98% validation accuracy. This marks a significant breakthrough, effectively addressing overfitting while ensuring robust generalization. Given its strong performance, we confidently finalize this model for evaluation."
   ]
  },
  {
   "cell_type": "markdown",
   "metadata": {
    "id": "Jy_yLCZuDgLF"
   },
   "source": [
    "### Final Analysis"
   ]
  },
  {
   "cell_type": "markdown",
   "metadata": {
    "id": "6Hfx_D_lDgLF"
   },
   "source": [
    "### Model Evaluation"
   ]
  },
  {
   "cell_type": "code",
   "execution_count": 36,
   "metadata": {
    "id": "SFLvXLG3DgLF"
   },
   "outputs": [],
   "source": [
    "from keras.models import load_model\n",
    "model = load_model('/home/dl_content/Upgrad DL/Gesture Recognition Assignment/model_init_2025-04-0111_23_46.397063/model-00020-0.02392-0.99321-0.10166-0.98000.keras')"
   ]
  },
  {
   "cell_type": "code",
   "execution_count": 37,
   "metadata": {
    "id": "bjmMVxrsDgLG"
   },
   "outputs": [],
   "source": [
    "test_generator = RNNCNN_TL_GRU()\n",
    "test_generator.initialize_path(BASE_PATH)\n",
    "test_generator.initialize_image_props(image_height=120, image_width=120)\n",
    "test_generator.initialize_hyperparameters(number_of_sample_frames=16, batch_size=5, num_epochs=1)\n",
    "\n",
    "g = test_generator.generator(test_generator.val_path, test_generator.val_doc, augment=False)\n",
    "batch_data, batch_labels = next(g)"
   ]
  },
  {
   "cell_type": "code",
   "execution_count": 38,
   "metadata": {
    "id": "EtPqz2W-DgLG"
   },
   "outputs": [
    {
     "data": {
      "text/plain": [
       "array([[1., 0., 0., 0., 0.],\n",
       "       [1., 0., 0., 0., 0.],\n",
       "       [0., 0., 1., 0., 0.],\n",
       "       [0., 0., 0., 0., 1.],\n",
       "       [0., 0., 0., 1., 0.]])"
      ]
     },
     "execution_count": 38,
     "metadata": {},
     "output_type": "execute_result"
    }
   ],
   "source": [
    "batch_labels"
   ]
  }
 ],
 "metadata": {
  "colab": {
   "provenance": []
  },
  "kernelspec": {
   "display_name": "Python 3 (ipykernel)",
   "language": "python",
   "name": "python3"
  },
  "language_info": {
   "codemirror_mode": {
    "name": "ipython",
    "version": 3
   },
   "file_extension": ".py",
   "mimetype": "text/x-python",
   "name": "python",
   "nbconvert_exporter": "python",
   "pygments_lexer": "ipython3",
   "version": "3.8.10"
  }
 },
 "nbformat": 4,
 "nbformat_minor": 4
}
